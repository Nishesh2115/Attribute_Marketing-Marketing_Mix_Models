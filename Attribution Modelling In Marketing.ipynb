{
 "cells": [
  {
   "cell_type": "markdown",
   "id": "6e9163bc",
   "metadata": {},
   "source": [
    "# Business Problem\n",
    "\n",
    "All the companies invest a lot of money on Digital Marketing these days on different channels like Email ADs, Google ADs, Instagram Feed, Youtube Ads, Facebook Feed etc.\n",
    "\n",
    "\n",
    "Let's say Amazon as a company has invested 100 dollars on marketing on different channels like Google Ads(20 dollar ) Instagram feed(20 dollar), Facebook Feed(20 dollar) and on Youtube Ads(30 dollar) ,Now Amazon as a company wants to know,\n",
    "\n",
    "<b>\"HOW MUCH CONTRIBUTION EACH CHANNEL DID TO THE REVENUE OF THE COMPANY?\"</b>\n",
    "\n",
    "Now this question is very simple but the finding the solution to this could be very challenging because we need to understand that finally hit a customer to go for the product, what exactly works in the marketing campaign and more importantly why did not work out so that they can plan their Marketing Funds accordingly.\n",
    "\n",
    "\n",
    "For example lets say from 80 percent of the sales from this marketing campaign comes from Youtube ADs, 10 percent comes from Google Search, 5 percent comes from Instagram, 5 percent from the Facebook.\n",
    "\n",
    "Now if a company can get this detailed data about the percentage revenue from different channels then it will give more weightage of marketing budget to Youtube than other marketing channels.\n",
    "\n",
    "This can literally help companies to understand the market in depth and will increase their revenue over time. \n",
    "\n",
    "\n",
    "\n",
    "\n",
    "\n",
    "\n",
    "\n",
    "\n"
   ]
  },
  {
   "cell_type": "markdown",
   "id": "7a40c48f",
   "metadata": {},
   "source": [
    "# Approach-1 \n",
    "\n",
    "<b>Rule Based/Intutive system </b>\n",
    "\n",
    "1. These are some simple rule based systems which are more like gut-feeling driven.\n",
    "\n",
    "\n",
    "2. Here we can say clicks are more Important than Impressions, Impressions are simply when you see an ad but you did not click it.\n",
    "\n",
    "\n",
    "3. Search ads are more influential than Display ads, this is a simple intution that if a person searches something on the internet, then there are more chances that he/she will buy it. But when a person just sees a ad on any social media there are less chances for that conversion.\n",
    "\n",
    "\n",
    "4. One simple rule is LAST INTERACTION ATTRIBUTION MODEL, for example, lets say i went to facebook, i saw an AD of Headphone, then i went to youtube, i saw the same ad , then i went to Google and i searched those Headphones and i clicked on the Google Ad then i finally purchased the Headphone, so according to LAST INTERACTION ATTRIBUTION MODEL,We will give 90% credit to the last channel(Google ADs) and rest small percentages to rest of the channels.\n",
    "\n",
    "\n",
    "5. Another simple rule based system could be FIRST ATTRIBUTION CHANNEL, this means we are assuming that the first ad which user saw was responsible for the conversion, here 90% credit is given to the first channel and rest to other channels, This normally happens with luxurious items or Any New Product, lets say  A NEW MACBOOK where the channel could be the youtube presentation by APPLE.\n",
    "\n",
    "\n",
    "6. Another could be a time decay model where we assume that with time the percentage credit to channels should Increase, for example lets say we showed the Smartphone ad to the user on Google Search AD, then we showed the ad to user on Instagram feed, then we showed the ad to the user on Facebook feed then we showed the ad on youtube. Now lets say user bought the smartphone, now according to the Time Decay model we will give maximum credits percentage of conversion to Youtube lets say 60%, then Facebook lets say 20%, then Instagram lets say 10%, then at last Google Ads lets say 5%.\n",
    "\n"
   ]
  },
  {
   "cell_type": "markdown",
   "id": "cdc5910f",
   "metadata": {},
   "source": [
    "# Approach-2\n",
    "\n",
    "<b>Regression Based Machine Learning Models</b>\n",
    "\n",
    "<b>Why not map this problem as a Machine Learning Problem???</b>\n",
    "\n",
    "So lets say we have some old data which tells us about the revenue by different channels and the total sales for that campaign, now we can build a simple regression model where features will be the different channels and sales will be the target variable.\n",
    "\n",
    "Regression will tell us how independent features(different channels) are mathematically related to dependent features (sales). \n",
    "\n",
    "y= x1*(Youtube) + x2*(Facebook) + x3*(Instagram) + x4*(GoogleAds) \n",
    "\n",
    "If I just find the values x1,x2,x3 and x4 then it will give me a good approximation of, how much Youtube is contibuting, how much Facebook is contributing, how much Instagram is contibuting and how much GoogleAds is contibuting.\n",
    "\n",
    "Thats what we want,Right...\n",
    "\n",
    "\n",
    "<b> Now before going to another approach which is a Marcov Chains, lets see some code of regression approach for Attribute Modelling </b>\n",
    "\n"
   ]
  },
  {
   "cell_type": "markdown",
   "id": "4ba5b7f1",
   "metadata": {},
   "source": [
    "# Data for  Regression Based Attribute Model\n",
    "\n",
    "I have downloaded the data from kaggale, this seems a dummy data but not bad for understanding the regression approach.\n",
    "\n",
    "Link for the data:- https://www.kaggle.com/datasets/sazid28/advertising.csv\n",
    "\n",
    "Data has 3 features or channels , First is TV, Second is Radio, Third is Newspaper.\n",
    "In this data we have revenue amount by different channels and then we have a total sales column.\n",
    "\n",
    "For example- In first row, Total Sales is 22.1 lakhs, 2 lakh 30 thousand comes from TV, 37 thousand comes from Radio, 69 thousand comes from Newspaper, other amount can be assumed from direct sales."
   ]
  },
  {
   "cell_type": "markdown",
   "id": "56721ca1",
   "metadata": {},
   "source": [
    "# Performance Metric \n",
    "\n",
    "We have to use the Performance Metric for Regression.\n",
    "\n",
    "1. RMSE(ROOT MEAN SQUARE ERROR)\n",
    "\n",
    "\n",
    "2. R^2 (Coefficient of Determinant)\n",
    "\n",
    "\n",
    "3. Adjusted R^2 "
   ]
  },
  {
   "cell_type": "code",
   "execution_count": 2,
   "id": "6a72507e",
   "metadata": {},
   "outputs": [],
   "source": [
    "import numpy as np\n",
    "import pandas as pd\n",
    "import matplotlib.pyplot as plt\n",
    "import seaborn as sns\n",
    "from sklearn.metrics import mean_squared_error\n",
    "from sklearn.metrics import r2_score\n",
    "\n",
    "import warnings\n",
    "warnings.filterwarnings(\"ignore\")\n"
   ]
  },
  {
   "cell_type": "code",
   "execution_count": 3,
   "id": "d5a75730",
   "metadata": {},
   "outputs": [],
   "source": [
    "#simply loading the data\n",
    "data=pd.read_csv(\"Advertising.csv\")\n",
    "\n"
   ]
  },
  {
   "cell_type": "code",
   "execution_count": 6,
   "id": "c521d1d8",
   "metadata": {},
   "outputs": [
    {
     "data": {
      "text/html": [
       "<div>\n",
       "<style scoped>\n",
       "    .dataframe tbody tr th:only-of-type {\n",
       "        vertical-align: middle;\n",
       "    }\n",
       "\n",
       "    .dataframe tbody tr th {\n",
       "        vertical-align: top;\n",
       "    }\n",
       "\n",
       "    .dataframe thead th {\n",
       "        text-align: right;\n",
       "    }\n",
       "</style>\n",
       "<table border=\"1\" class=\"dataframe\">\n",
       "  <thead>\n",
       "    <tr style=\"text-align: right;\">\n",
       "      <th></th>\n",
       "      <th>Unnamed: 0</th>\n",
       "      <th>TV</th>\n",
       "      <th>radio</th>\n",
       "      <th>newspaper</th>\n",
       "      <th>sales</th>\n",
       "    </tr>\n",
       "  </thead>\n",
       "  <tbody>\n",
       "    <tr>\n",
       "      <th>0</th>\n",
       "      <td>1</td>\n",
       "      <td>230.1</td>\n",
       "      <td>37.8</td>\n",
       "      <td>69.2</td>\n",
       "      <td>22.1</td>\n",
       "    </tr>\n",
       "    <tr>\n",
       "      <th>1</th>\n",
       "      <td>2</td>\n",
       "      <td>44.5</td>\n",
       "      <td>39.3</td>\n",
       "      <td>45.1</td>\n",
       "      <td>10.4</td>\n",
       "    </tr>\n",
       "    <tr>\n",
       "      <th>2</th>\n",
       "      <td>3</td>\n",
       "      <td>17.2</td>\n",
       "      <td>45.9</td>\n",
       "      <td>69.3</td>\n",
       "      <td>9.3</td>\n",
       "    </tr>\n",
       "    <tr>\n",
       "      <th>3</th>\n",
       "      <td>4</td>\n",
       "      <td>151.5</td>\n",
       "      <td>41.3</td>\n",
       "      <td>58.5</td>\n",
       "      <td>18.5</td>\n",
       "    </tr>\n",
       "    <tr>\n",
       "      <th>4</th>\n",
       "      <td>5</td>\n",
       "      <td>180.8</td>\n",
       "      <td>10.8</td>\n",
       "      <td>58.4</td>\n",
       "      <td>12.9</td>\n",
       "    </tr>\n",
       "  </tbody>\n",
       "</table>\n",
       "</div>"
      ],
      "text/plain": [
       "   Unnamed: 0     TV  radio  newspaper  sales\n",
       "0           1  230.1   37.8       69.2   22.1\n",
       "1           2   44.5   39.3       45.1   10.4\n",
       "2           3   17.2   45.9       69.3    9.3\n",
       "3           4  151.5   41.3       58.5   18.5\n",
       "4           5  180.8   10.8       58.4   12.9"
      ]
     },
     "execution_count": 6,
     "metadata": {},
     "output_type": "execute_result"
    }
   ],
   "source": [
    "#printing the top 5 rows\n",
    "data.head()"
   ]
  },
  {
   "cell_type": "code",
   "execution_count": 56,
   "id": "4e5917bb",
   "metadata": {},
   "outputs": [
    {
     "data": {
      "text/plain": [
       "(200, 5)"
      ]
     },
     "execution_count": 56,
     "metadata": {},
     "output_type": "execute_result"
    }
   ],
   "source": [
    "#getting the shape of the data\n",
    "data.shape"
   ]
  },
  {
   "cell_type": "markdown",
   "id": "fb379c05",
   "metadata": {},
   "source": [
    "<b>Data we have is very small but not bad for the intution of how things are happening in regression, finding actual data from companies is very difficult because these are confidental datasets.</b>"
   ]
  },
  {
   "cell_type": "code",
   "execution_count": 4,
   "id": "9e572d88",
   "metadata": {},
   "outputs": [
    {
     "name": "stdout",
     "output_type": "stream",
     "text": [
      "<class 'pandas.core.frame.DataFrame'>\n",
      "RangeIndex: 200 entries, 0 to 199\n",
      "Data columns (total 5 columns):\n",
      " #   Column      Non-Null Count  Dtype  \n",
      "---  ------      --------------  -----  \n",
      " 0   Unnamed: 0  200 non-null    int64  \n",
      " 1   TV          200 non-null    float64\n",
      " 2   radio       200 non-null    float64\n",
      " 3   newspaper   200 non-null    float64\n",
      " 4   sales       200 non-null    float64\n",
      "dtypes: float64(4), int64(1)\n",
      "memory usage: 7.9 KB\n"
     ]
    }
   ],
   "source": [
    "#to see if there are null values in the data\n",
    "data.info()\n",
    "\n"
   ]
  },
  {
   "cell_type": "markdown",
   "id": "4f6b8654",
   "metadata": {},
   "source": [
    "THERE ARE NO NULL VALUES IN THE DATA"
   ]
  },
  {
   "cell_type": "code",
   "execution_count": 57,
   "id": "e7783b5e",
   "metadata": {},
   "outputs": [
    {
     "data": {
      "text/html": [
       "<div>\n",
       "<style scoped>\n",
       "    .dataframe tbody tr th:only-of-type {\n",
       "        vertical-align: middle;\n",
       "    }\n",
       "\n",
       "    .dataframe tbody tr th {\n",
       "        vertical-align: top;\n",
       "    }\n",
       "\n",
       "    .dataframe thead th {\n",
       "        text-align: right;\n",
       "    }\n",
       "</style>\n",
       "<table border=\"1\" class=\"dataframe\">\n",
       "  <thead>\n",
       "    <tr style=\"text-align: right;\">\n",
       "      <th></th>\n",
       "      <th>Unnamed: 0</th>\n",
       "      <th>TV</th>\n",
       "      <th>radio</th>\n",
       "      <th>newspaper</th>\n",
       "      <th>sales</th>\n",
       "    </tr>\n",
       "  </thead>\n",
       "  <tbody>\n",
       "    <tr>\n",
       "      <th>count</th>\n",
       "      <td>200.000000</td>\n",
       "      <td>200.000000</td>\n",
       "      <td>200.000000</td>\n",
       "      <td>200.000000</td>\n",
       "      <td>200.000000</td>\n",
       "    </tr>\n",
       "    <tr>\n",
       "      <th>mean</th>\n",
       "      <td>100.500000</td>\n",
       "      <td>147.042500</td>\n",
       "      <td>23.264000</td>\n",
       "      <td>30.554000</td>\n",
       "      <td>14.022500</td>\n",
       "    </tr>\n",
       "    <tr>\n",
       "      <th>std</th>\n",
       "      <td>57.879185</td>\n",
       "      <td>85.854236</td>\n",
       "      <td>14.846809</td>\n",
       "      <td>21.778621</td>\n",
       "      <td>5.217457</td>\n",
       "    </tr>\n",
       "    <tr>\n",
       "      <th>min</th>\n",
       "      <td>1.000000</td>\n",
       "      <td>0.700000</td>\n",
       "      <td>0.000000</td>\n",
       "      <td>0.300000</td>\n",
       "      <td>1.600000</td>\n",
       "    </tr>\n",
       "    <tr>\n",
       "      <th>25%</th>\n",
       "      <td>50.750000</td>\n",
       "      <td>74.375000</td>\n",
       "      <td>9.975000</td>\n",
       "      <td>12.750000</td>\n",
       "      <td>10.375000</td>\n",
       "    </tr>\n",
       "    <tr>\n",
       "      <th>50%</th>\n",
       "      <td>100.500000</td>\n",
       "      <td>149.750000</td>\n",
       "      <td>22.900000</td>\n",
       "      <td>25.750000</td>\n",
       "      <td>12.900000</td>\n",
       "    </tr>\n",
       "    <tr>\n",
       "      <th>75%</th>\n",
       "      <td>150.250000</td>\n",
       "      <td>218.825000</td>\n",
       "      <td>36.525000</td>\n",
       "      <td>45.100000</td>\n",
       "      <td>17.400000</td>\n",
       "    </tr>\n",
       "    <tr>\n",
       "      <th>max</th>\n",
       "      <td>200.000000</td>\n",
       "      <td>296.400000</td>\n",
       "      <td>49.600000</td>\n",
       "      <td>114.000000</td>\n",
       "      <td>27.000000</td>\n",
       "    </tr>\n",
       "  </tbody>\n",
       "</table>\n",
       "</div>"
      ],
      "text/plain": [
       "       Unnamed: 0          TV       radio   newspaper       sales\n",
       "count  200.000000  200.000000  200.000000  200.000000  200.000000\n",
       "mean   100.500000  147.042500   23.264000   30.554000   14.022500\n",
       "std     57.879185   85.854236   14.846809   21.778621    5.217457\n",
       "min      1.000000    0.700000    0.000000    0.300000    1.600000\n",
       "25%     50.750000   74.375000    9.975000   12.750000   10.375000\n",
       "50%    100.500000  149.750000   22.900000   25.750000   12.900000\n",
       "75%    150.250000  218.825000   36.525000   45.100000   17.400000\n",
       "max    200.000000  296.400000   49.600000  114.000000   27.000000"
      ]
     },
     "execution_count": 57,
     "metadata": {},
     "output_type": "execute_result"
    }
   ],
   "source": [
    "# to understand the data in depth\n",
    "data.describe()\n",
    "\n"
   ]
  },
  {
   "cell_type": "code",
   "execution_count": 4,
   "id": "7b591b1a",
   "metadata": {},
   "outputs": [
    {
     "data": {
      "text/plain": [
       "0"
      ]
     },
     "execution_count": 4,
     "metadata": {},
     "output_type": "execute_result"
    }
   ],
   "source": [
    "#checking is there is any duplicate values in the data\n",
    "data.duplicated().sum()"
   ]
  },
  {
   "cell_type": "markdown",
   "id": "673e9bf1",
   "metadata": {},
   "source": [
    "THERE ARE NO DUPLICATES ROWS IN THE DATA"
   ]
  },
  {
   "cell_type": "code",
   "execution_count": 17,
   "id": "3537cb8e",
   "metadata": {},
   "outputs": [
    {
     "data": {
      "text/plain": [
       "Unnamed: 0    0\n",
       "TV            0\n",
       "radio         0\n",
       "newspaper     0\n",
       "sales         0\n",
       "dtype: int64"
      ]
     },
     "execution_count": 17,
     "metadata": {},
     "output_type": "execute_result"
    }
   ],
   "source": [
    "#checking if any data point is null or not\n",
    "\n",
    "data.isnull().sum()"
   ]
  },
  {
   "cell_type": "code",
   "execution_count": 6,
   "id": "ee59340c",
   "metadata": {},
   "outputs": [],
   "source": [
    "#deleting unneccarry columns\n",
    "data2=data.drop(['Unnamed: 0'],axis=1)\n"
   ]
  },
  {
   "cell_type": "markdown",
   "id": "68dc58d1",
   "metadata": {},
   "source": [
    "# EXPLORATORY DATA ANALYSIS\n",
    "\n"
   ]
  },
  {
   "cell_type": "code",
   "execution_count": 8,
   "id": "45ae7c6b",
   "metadata": {},
   "outputs": [
    {
     "data": {
      "text/plain": [
       "<seaborn.axisgrid.PairGrid at 0x7fe4b8d915e0>"
      ]
     },
     "execution_count": 8,
     "metadata": {},
     "output_type": "execute_result"
    },
    {
     "data": {
      "image/png": "[encoded data removed]",
      "text/plain": [
       "<Figure size 720x720 with 20 Axes>"
      ]
     },
     "metadata": {
      "needs_background": "light"
     },
     "output_type": "display_data"
    }
   ],
   "source": [
    "#pair plot\n",
    "sns.pairplot(data2)"
   ]
  },
  {
   "cell_type": "markdown",
   "id": "23b27be1",
   "metadata": {},
   "source": [
    "# Observation\n",
    "\n",
    "1. Ideally we want no correlation between features or independent features and here we can see that  there is no correlation between TV and Radio, there is no correlation between TV and Newspaper, There is no correlation between Newspaper and Radio and thats a good sign.\n",
    "\n",
    "\n",
    "2. We can also see that there is positive correlation between TV and Sales, Radio and Sales, Newspaper and Sales, this simply means all three of them is contributing in sales someway or the other.\n",
    "\n",
    "\n",
    "3. We can see the histogram of radio is almost uniformly distributed, it means the revenue by radio has same frequencies in the the available ranges.\n",
    "\n",
    "\n",
    "4. We can see the histogram of newspaper is power-law distributed, it means most of the revenue by newspaper is low compared to TV and Radio.\n",
    "\n",
    "\n",
    "5. We can see the histogram of TV is approximately Left-Skewed, it means most of the revenue is towards the high side when compared to TV and Radio."
   ]
  },
  {
   "cell_type": "code",
   "execution_count": 6,
   "id": "73ed4a87",
   "metadata": {
    "scrolled": false
   },
   "outputs": [
    {
     "data": {
      "text/plain": [
       "Text(0.5, 1.0, 'Correlation Heatmap')"
      ]
     },
     "execution_count": 6,
     "metadata": {},
     "output_type": "execute_result"
    },
    {
     "data": {
      "image/png": "[encoded data removed]",
      "text/plain": [
       "<Figure size 576x432 with 2 Axes>"
      ]
     },
     "metadata": {
      "needs_background": "light"
     },
     "output_type": "display_data"
    }
   ],
   "source": [
    "#lets find the correlation between feature\n",
    "#HEATMAP\n",
    "plt.figure(figsize=(8, 6))\n",
    "heatmap = sns.heatmap(data2.corr(), vmin=-1, vmax=1, annot=True)\n",
    "heatmap.set_title('Correlation Heatmap', fontdict={'fontsize':12}, pad=12)\n"
   ]
  },
  {
   "cell_type": "markdown",
   "id": "fd6411f7",
   "metadata": {},
   "source": [
    "# Observation\n",
    "\n",
    "1. There is a high correlation number between TV and Sales which is 0.78 means as we market our product on TV, our sales increases significantly\n",
    "\n",
    "\n",
    "2. Then there is correlation between Radio and Sales which is 0.58 means Radio is also contibuting significantly to sales but not as much as TV.\n",
    "\n",
    "\n",
    "3. Then we have also a positive correaltion between Sales and Newspaper but less compared to TV and Radio, it simply means giving advertisement to newspaper adds value in revenue but not as compared to TV and radio.\n",
    "\n",
    "\n",
    "4. Other Correlation ratios are very small so we can ignore them.\n"
   ]
  },
  {
   "cell_type": "code",
   "execution_count": 7,
   "id": "44fc1c09",
   "metadata": {},
   "outputs": [],
   "source": [
    "#Just Dividing data into input(features) and output(target variable)\n",
    "x2=data2.iloc[:,0:3]\n",
    "y2=data2['sales']\n",
    "\n"
   ]
  },
  {
   "cell_type": "markdown",
   "id": "5b875708",
   "metadata": {},
   "source": [
    "# Modelling\n",
    "\n",
    "So, lets start with train models with our data.\n",
    "\n",
    "We gonna Train Linear regression without L2 regulaizer, Linear Regression with L2 regularizer,\n",
    "Random Forest, GBDT\n"
   ]
  },
  {
   "cell_type": "markdown",
   "id": "7254c604",
   "metadata": {},
   "source": [
    "# 1. Random Forest Regressor"
   ]
  },
  {
   "cell_type": "code",
   "execution_count": 9,
   "id": "09ebe604",
   "metadata": {},
   "outputs": [],
   "source": [
    "from sklearn.model_selection import train_test_split\n",
    "from sklearn.ensemble import RandomForestRegressor\n",
    "from sklearn.model_selection import GridSearchCV\n",
    "\n",
    "X_train, X_test, y_train, y_test = train_test_split(x2, y2, test_size = 0.3, random_state=50)\n",
    "\n",
    "#hyperparameter tuning\n",
    "param_grid = {\n",
    "    'n_estimators': [200,300, 500],\n",
    "    'max_depth' : [4,5,6]\n",
    "} #hyperparameters\n",
    "rfc=RandomForestRegressor(random_state=42)\n",
    "\n",
    "grid_search = GridSearchCV(estimator = rfc, param_grid = param_grid, \n",
    "                          cv = 3, n_jobs = -1, verbose = 2) #using grid search method to tune the hyperparameters"
   ]
  },
  {
   "cell_type": "code",
   "execution_count": 11,
   "id": "c485d882",
   "metadata": {},
   "outputs": [
    {
     "name": "stdout",
     "output_type": "stream",
     "text": [
      "Fitting 3 folds for each of 9 candidates, totalling 27 fits\n",
      "{'max_depth': 6, 'n_estimators': 500}\n"
     ]
    }
   ],
   "source": [
    "#here we are fiting the training data\n",
    "\n",
    "grid_search.fit(X_train, y_train) #Fitting the data\n",
    "print(grid_search.best_params_)"
   ]
  },
  {
   "cell_type": "code",
   "execution_count": 18,
   "id": "4be955e9",
   "metadata": {},
   "outputs": [],
   "source": [
    "rfc_new=RandomForestRegressor(max_depth= 6, max_features= 'auto', n_estimators=500,random_state=42)\n",
    "random_forest_model=rfc_new.fit(X_train,y_train)\n",
    "y_pred=random_forest_model.predict(X_test) #predicting for test data"
   ]
  },
  {
   "cell_type": "code",
   "execution_count": 38,
   "id": "9baed1f3",
   "metadata": {},
   "outputs": [
    {
     "name": "stdout",
     "output_type": "stream",
     "text": [
      "The Mean Square error is  0.3330227364583448\n",
      "The R^2 Value is 0.9821040400901537\n",
      "The Adjusted R2 is 0.9818301223364316\n"
     ]
    }
   ],
   "source": [
    "#PERFROMANCE OF THE RANDOM FOREST REGRESSOR\n",
    "#MEAN_SQUARED_ERROR\n",
    "\n",
    "print(\"The Mean Square error is \",mean_squared_error(y_test, y_pred))\n",
    "\n",
    "#R^2\n",
    "R2=r2_score(y_test,y_pred)\n",
    "print(\"The R^2 Value is\",R2)\n",
    "\n",
    "#adjusted r^2 value\n",
    "n=x2.shape[0] #number of rows\n",
    "p=x2.shape[1] #numbr of features\n",
    "Adj_r2 = 1-(1-R2)*(n-1)/(n-p-1)\n",
    "\n",
    "print(\"The Adjusted R2 is\",Adj_r2)\n"
   ]
  },
  {
   "cell_type": "code",
   "execution_count": 39,
   "id": "e6cf6f93",
   "metadata": {},
   "outputs": [
    {
     "data": {
      "text/plain": [
       "<AxesSubplot:>"
      ]
     },
     "execution_count": 39,
     "metadata": {},
     "output_type": "execute_result"
    },
    {
     "data": {
      "image/png": "[encoded data removed]",
      "text/plain": [
       "<Figure size 720x720 with 1 Axes>"
      ]
     },
     "metadata": {
      "needs_background": "light"
     },
     "output_type": "display_data"
    }
   ],
   "source": [
    "# Visualizing Feature Importance\n",
    "feat_importances = pd.Series(random_forest_model.feature_importances_, index=x2.columns)\n",
    "feat_importances.nlargest(25).plot(kind='barh',figsize=(10,10))"
   ]
  },
  {
   "cell_type": "code",
   "execution_count": 14,
   "id": "62110f3c",
   "metadata": {},
   "outputs": [
    {
     "name": "stdout",
     "output_type": "stream",
     "text": [
      "sales = (0.6828260179480447 * TV) + (0.30882519413197784 *  Radio) + (0.008348787919977457 * Newspaper)\n"
     ]
    }
   ],
   "source": [
    "\n",
    "w1, w2, w3 = random_forest_model.feature_importances_\n",
    "equation = \"sales = ({} * TV) + ({} *  Radio) + ({} * Newspaper)\".format(w1,w2,w3)\n",
    "print(equation)\n",
    "\n"
   ]
  },
  {
   "cell_type": "markdown",
   "id": "ddee6edb",
   "metadata": {},
   "source": [
    "Thats how the equation looks like..."
   ]
  },
  {
   "cell_type": "code",
   "execution_count": 16,
   "id": "35a0de00",
   "metadata": {},
   "outputs": [
    {
     "data": {
      "text/html": [
       "<div>\n",
       "<style scoped>\n",
       "    .dataframe tbody tr th:only-of-type {\n",
       "        vertical-align: middle;\n",
       "    }\n",
       "\n",
       "    .dataframe tbody tr th {\n",
       "        vertical-align: top;\n",
       "    }\n",
       "\n",
       "    .dataframe thead th {\n",
       "        text-align: right;\n",
       "    }\n",
       "</style>\n",
       "<table border=\"1\" class=\"dataframe\">\n",
       "  <thead>\n",
       "    <tr style=\"text-align: right;\">\n",
       "      <th></th>\n",
       "      <th>Actual</th>\n",
       "      <th>Predicted</th>\n",
       "    </tr>\n",
       "  </thead>\n",
       "  <tbody>\n",
       "    <tr>\n",
       "      <th>0</th>\n",
       "      <td>14.1</td>\n",
       "      <td>14.806383</td>\n",
       "    </tr>\n",
       "    <tr>\n",
       "      <th>1</th>\n",
       "      <td>11.9</td>\n",
       "      <td>11.924369</td>\n",
       "    </tr>\n",
       "    <tr>\n",
       "      <th>2</th>\n",
       "      <td>9.2</td>\n",
       "      <td>8.506623</td>\n",
       "    </tr>\n",
       "    <tr>\n",
       "      <th>3</th>\n",
       "      <td>11.0</td>\n",
       "      <td>11.196683</td>\n",
       "    </tr>\n",
       "    <tr>\n",
       "      <th>4</th>\n",
       "      <td>11.4</td>\n",
       "      <td>11.699815</td>\n",
       "    </tr>\n",
       "  </tbody>\n",
       "</table>\n",
       "</div>"
      ],
      "text/plain": [
       "   Actual  Predicted\n",
       "0    14.1  14.806383\n",
       "1    11.9  11.924369\n",
       "2     9.2   8.506623\n",
       "3    11.0  11.196683\n",
       "4    11.4  11.699815"
      ]
     },
     "execution_count": 16,
     "metadata": {},
     "output_type": "execute_result"
    }
   ],
   "source": [
    "# Defining Actual and Predicted values\n",
    "y_pred = random_forest_model.predict(X_test)\n",
    "labels = y_test\n",
    "df_temp_rf = pd.DataFrame({'Actual': labels, 'Predicted':y_pred})\n",
    "df_temp_rf=df_temp_rf.reset_index(drop=True)\n",
    "df_temp_rf.head()"
   ]
  },
  {
   "cell_type": "code",
   "execution_count": 17,
   "id": "95615bad",
   "metadata": {},
   "outputs": [
    {
     "data": {
      "image/png": "[encoded data removed]",
      "text/plain": [
       "<Figure size 1200x480 with 1 Axes>"
      ]
     },
     "metadata": {},
     "output_type": "display_data"
    }
   ],
   "source": [
    "# Creating Line Graph\n",
    "from matplotlib.pyplot import figure\n",
    "figure(num=None, figsize=(15, 6), dpi=80, facecolor='w', edgecolor='k')\n",
    "y1 = df_temp_rf['Actual']\n",
    "y2 = df_temp_rf['Predicted']\n",
    "plt.plot(y1, label = 'Actual')\n",
    "plt.plot(y2, label = 'Predicted')\n",
    "plt.legend()\n",
    "plt.show()"
   ]
  },
  {
   "cell_type": "markdown",
   "id": "a231905f",
   "metadata": {},
   "source": [
    "# Observation\n",
    "\n",
    "1. Now in the above line plot, the blue line tells us the the actual values of sales for the test data and orange line tells us the predicted values of sales for the same test data.\n",
    "\n",
    "2. So more the overlapping of these two line charts, the better the model has predicted. In an ideal case, if a model is predicting perfectly then there should be complete overlap between these line charts."
   ]
  },
  {
   "cell_type": "markdown",
   "id": "957919c2",
   "metadata": {},
   "source": [
    "# 2. Linear Regression Without Regularization\n"
   ]
  },
  {
   "cell_type": "code",
   "execution_count": 10,
   "id": "36e57e7e",
   "metadata": {},
   "outputs": [
    {
     "name": "stdout",
     "output_type": "stream",
     "text": [
      "The R2 value is 0.8590575550977457\n"
     ]
    }
   ],
   "source": [
    "from sklearn.linear_model import LinearRegression\n",
    "from sklearn.linear_model import Ridge \n",
    "\n",
    "#without the regularization Term\n",
    "linear=LinearRegression().fit(X_train,y_train)\n",
    "print(\"The R2 value is\",linear.score(X_test,y_test)) # this score gives the coefficient of determinant/R^2 SCORE of test data\n",
    "y_pred_l=linear.predict(X_test)"
   ]
  },
  {
   "cell_type": "markdown",
   "id": "9f23300d",
   "metadata": {},
   "source": [
    "Now we know that a good model is which gives R2 value closer to 1"
   ]
  },
  {
   "cell_type": "code",
   "execution_count": 57,
   "id": "0a764698",
   "metadata": {},
   "outputs": [
    {
     "name": "stdout",
     "output_type": "stream",
     "text": [
      "The Mean Square error is  2.622772900751401\n",
      "The R^2 Value is 0.8590575550977457\n",
      "The Adjusted R2 is 0.8569002727778132\n"
     ]
    }
   ],
   "source": [
    "#PERFROMANCE OF THE lINEAR REGRESSION \n",
    "#MEAN_SQUARED_ERROR\n",
    "\n",
    "print(\"The Mean Square error is \",mean_squared_error(y_test, y_pred_l))\n",
    "\n",
    "#R^2\n",
    "R2_l=r2_score(y_test,y_pred_l)\n",
    "print(\"The R^2 Value is\",R2_l)\n",
    "\n",
    "#adjusted r^2 value\n",
    "n=x2.shape[0] #number of rows\n",
    "p=x2.shape[1] #numbr of features\n",
    "Adj_r2_l = 1-(1-R2_l)*(n-1)/(n-p-1)\n",
    "\n",
    "print(\"The Adjusted R2 is\",Adj_r2_l)\n",
    "\n",
    "\n"
   ]
  },
  {
   "cell_type": "code",
   "execution_count": 45,
   "id": "8a83fd66",
   "metadata": {},
   "outputs": [
    {
     "data": {
      "text/plain": [
       "<AxesSubplot:>"
      ]
     },
     "execution_count": 45,
     "metadata": {},
     "output_type": "execute_result"
    },
    {
     "data": {
      "image/png": "[encoded data removed]",
      "text/plain": [
       "<Figure size 720x720 with 1 Axes>"
      ]
     },
     "metadata": {
      "needs_background": "light"
     },
     "output_type": "display_data"
    }
   ],
   "source": [
    "#feature importance with L2 REGULAIZER\n",
    "# Visualizing Feature Importance\n",
    "feat_importances = pd.Series(linear.coef_, index=x2.columns)\n",
    "feat_importances.nlargest(25).plot(kind='barh',figsize=(10,10))"
   ]
  },
  {
   "cell_type": "code",
   "execution_count": 46,
   "id": "2fe1f79a",
   "metadata": {},
   "outputs": [
    {
     "data": {
      "text/html": [
       "<div>\n",
       "<style scoped>\n",
       "    .dataframe tbody tr th:only-of-type {\n",
       "        vertical-align: middle;\n",
       "    }\n",
       "\n",
       "    .dataframe tbody tr th {\n",
       "        vertical-align: top;\n",
       "    }\n",
       "\n",
       "    .dataframe thead th {\n",
       "        text-align: right;\n",
       "    }\n",
       "</style>\n",
       "<table border=\"1\" class=\"dataframe\">\n",
       "  <thead>\n",
       "    <tr style=\"text-align: right;\">\n",
       "      <th></th>\n",
       "      <th>coef</th>\n",
       "    </tr>\n",
       "  </thead>\n",
       "  <tbody>\n",
       "    <tr>\n",
       "      <th>radio</th>\n",
       "      <td>0.180880</td>\n",
       "    </tr>\n",
       "    <tr>\n",
       "      <th>TV</th>\n",
       "      <td>0.047550</td>\n",
       "    </tr>\n",
       "    <tr>\n",
       "      <th>newspaper</th>\n",
       "      <td>0.006298</td>\n",
       "    </tr>\n",
       "  </tbody>\n",
       "</table>\n",
       "</div>"
      ],
      "text/plain": [
       "               coef\n",
       "radio      0.180880\n",
       "TV         0.047550\n",
       "newspaper  0.006298"
      ]
     },
     "execution_count": 46,
     "metadata": {},
     "output_type": "execute_result"
    }
   ],
   "source": [
    "pd.DataFrame(linear.coef_, \n",
    "            x2.columns, \n",
    "            columns=['coef'])\\\n",
    "            .sort_values(by='coef', ascending=False)"
   ]
  },
  {
   "cell_type": "code",
   "execution_count": 47,
   "id": "0a51b4a3",
   "metadata": {},
   "outputs": [
    {
     "name": "stdout",
     "output_type": "stream",
     "text": [
      "sales = (0.047550102703214345 * TV) + (0.18088015185280826 *  Radio) + (0.006298050600517718 * Newspaper)\n"
     ]
    }
   ],
   "source": [
    "\n",
    "w1, w2, w3 = linear.coef_\n",
    "equation = \"sales = ({} * TV) + ({} *  Radio) + ({} * Newspaper)\".format(w1,w2,w3)\n",
    "print(equation)"
   ]
  },
  {
   "cell_type": "code",
   "execution_count": 49,
   "id": "3df71208",
   "metadata": {},
   "outputs": [
    {
     "data": {
      "text/html": [
       "<div>\n",
       "<style scoped>\n",
       "    .dataframe tbody tr th:only-of-type {\n",
       "        vertical-align: middle;\n",
       "    }\n",
       "\n",
       "    .dataframe tbody tr th {\n",
       "        vertical-align: top;\n",
       "    }\n",
       "\n",
       "    .dataframe thead th {\n",
       "        text-align: right;\n",
       "    }\n",
       "</style>\n",
       "<table border=\"1\" class=\"dataframe\">\n",
       "  <thead>\n",
       "    <tr style=\"text-align: right;\">\n",
       "      <th></th>\n",
       "      <th>Actual</th>\n",
       "      <th>Predicted</th>\n",
       "    </tr>\n",
       "  </thead>\n",
       "  <tbody>\n",
       "    <tr>\n",
       "      <th>0</th>\n",
       "      <td>14.1</td>\n",
       "      <td>13.864713</td>\n",
       "    </tr>\n",
       "    <tr>\n",
       "      <th>1</th>\n",
       "      <td>11.9</td>\n",
       "      <td>15.009056</td>\n",
       "    </tr>\n",
       "    <tr>\n",
       "      <th>2</th>\n",
       "      <td>9.2</td>\n",
       "      <td>10.605117</td>\n",
       "    </tr>\n",
       "    <tr>\n",
       "      <th>3</th>\n",
       "      <td>11.0</td>\n",
       "      <td>10.090619</td>\n",
       "    </tr>\n",
       "    <tr>\n",
       "      <th>4</th>\n",
       "      <td>11.4</td>\n",
       "      <td>10.205830</td>\n",
       "    </tr>\n",
       "  </tbody>\n",
       "</table>\n",
       "</div>"
      ],
      "text/plain": [
       "   Actual  Predicted\n",
       "0    14.1  13.864713\n",
       "1    11.9  15.009056\n",
       "2     9.2  10.605117\n",
       "3    11.0  10.090619\n",
       "4    11.4  10.205830"
      ]
     },
     "execution_count": 49,
     "metadata": {},
     "output_type": "execute_result"
    }
   ],
   "source": [
    "# Defining Actual and Predicted values\n",
    "y_pred = linear.predict(X_test)\n",
    "labels = y_test\n",
    "df_temp_linear = pd.DataFrame({'Actual': labels, 'Predicted':y_pred})\n",
    "df_temp_linear=df_temp_linear.reset_index(drop=True)\n",
    "df_temp_linear.head()"
   ]
  },
  {
   "cell_type": "code",
   "execution_count": 50,
   "id": "e033c625",
   "metadata": {},
   "outputs": [
    {
     "data": {
      "image/png": "[encoded data removed]",
      "text/plain": [
       "<Figure size 1200x480 with 1 Axes>"
      ]
     },
     "metadata": {},
     "output_type": "display_data"
    }
   ],
   "source": [
    "# Creating Line Graph\n",
    "from matplotlib.pyplot import figure\n",
    "figure(num=None, figsize=(15, 6), dpi=80, facecolor='w', edgecolor='k')\n",
    "y1 = df_temp_linear['Actual']\n",
    "y2 = df_temp_linear['Predicted']\n",
    "plt.plot(y1, label = 'Actual')\n",
    "plt.plot(y2, label = 'Predicted')\n",
    "plt.legend()\n",
    "plt.show()"
   ]
  },
  {
   "cell_type": "markdown",
   "id": "dcb64f94",
   "metadata": {},
   "source": [
    "# 3. Linear Regression with RIDGE(L2 REGULARIZER)"
   ]
  },
  {
   "cell_type": "code",
   "execution_count": 51,
   "id": "a9261750",
   "metadata": {},
   "outputs": [
    {
     "name": "stdout",
     "output_type": "stream",
     "text": [
      "Ridge(alpha=100, random_state=43)\n",
      "0.8586424742586294\n"
     ]
    }
   ],
   "source": [
    "#ridge(L2 REGULARIZER)\n",
    "\n",
    "tuned_parameters=[{'alpha':[10**-4,10**-2,10**0,10**2,10**4]}]\n",
    "\n",
    "linear_L2_regulaizer=Ridge(random_state=43)\n",
    "\n",
    "\n",
    "model=GridSearchCV(linear_L2_regulaizer,tuned_parameters)\n",
    "\n",
    "model.fit(X_train,y_train)\n",
    "\n",
    "print(model.best_estimator_)\n",
    "print(model.score(X_test,y_test)) #return the R^2 "
   ]
  },
  {
   "cell_type": "code",
   "execution_count": 54,
   "id": "caa0e3c9",
   "metadata": {},
   "outputs": [],
   "source": [
    "ridge_model=Ridge(alpha=100, random_state=43)\n",
    "ridge_model.fit(X_train,y_train)\n",
    "y_pred_r=ridge_model.predict(X_test)"
   ]
  },
  {
   "cell_type": "code",
   "execution_count": 56,
   "id": "8f16b96c",
   "metadata": {},
   "outputs": [
    {
     "name": "stdout",
     "output_type": "stream",
     "text": [
      "The Mean Square error is  2.6304970662943665\n",
      "The R^2 Value is 0.8586424742586294\n",
      "The Adjusted R2 is 0.8564788386605472\n"
     ]
    }
   ],
   "source": [
    "#PERFROMANCE OF THE lINEAR rEGRESSION REGRESSOR with l2 regularizer\n",
    "#MEAN_SQUARED_ERROR\n",
    "\n",
    "print(\"The Mean Square error is \",mean_squared_error(y_test, y_pred_r))\n",
    "\n",
    "#R^2\n",
    "R2_r=r2_score(y_test,y_pred_r)\n",
    "print(\"The R^2 Value is\",R2_r)\n",
    "\n",
    "#adjusted r^2 value\n",
    "n=x2.shape[0] #number of rows\n",
    "p=x2.shape[1] #numbr of features\n",
    "Adj_r2_r = 1-(1-R2_r)*(n-1)/(n-p-1)\n",
    "\n",
    "print(\"The Adjusted R2 is\",Adj_r2_r)"
   ]
  },
  {
   "cell_type": "code",
   "execution_count": 58,
   "id": "4fde6520",
   "metadata": {},
   "outputs": [
    {
     "data": {
      "text/html": [
       "<div>\n",
       "<style scoped>\n",
       "    .dataframe tbody tr th:only-of-type {\n",
       "        vertical-align: middle;\n",
       "    }\n",
       "\n",
       "    .dataframe tbody tr th {\n",
       "        vertical-align: top;\n",
       "    }\n",
       "\n",
       "    .dataframe thead th {\n",
       "        text-align: right;\n",
       "    }\n",
       "</style>\n",
       "<table border=\"1\" class=\"dataframe\">\n",
       "  <thead>\n",
       "    <tr style=\"text-align: right;\">\n",
       "      <th></th>\n",
       "      <th>coef</th>\n",
       "    </tr>\n",
       "  </thead>\n",
       "  <tbody>\n",
       "    <tr>\n",
       "      <th>radio</th>\n",
       "      <td>0.180194</td>\n",
       "    </tr>\n",
       "    <tr>\n",
       "      <th>TV</th>\n",
       "      <td>0.047558</td>\n",
       "    </tr>\n",
       "    <tr>\n",
       "      <th>newspaper</th>\n",
       "      <td>0.006465</td>\n",
       "    </tr>\n",
       "  </tbody>\n",
       "</table>\n",
       "</div>"
      ],
      "text/plain": [
       "               coef\n",
       "radio      0.180194\n",
       "TV         0.047558\n",
       "newspaper  0.006465"
      ]
     },
     "execution_count": 58,
     "metadata": {},
     "output_type": "execute_result"
    }
   ],
   "source": [
    "pd.DataFrame(ridge_model.coef_, \n",
    "            x2.columns, \n",
    "            columns=['coef'])\\\n",
    "            .sort_values(by='coef', ascending=False)"
   ]
  },
  {
   "cell_type": "code",
   "execution_count": 59,
   "id": "16d1b6ff",
   "metadata": {},
   "outputs": [
    {
     "name": "stdout",
     "output_type": "stream",
     "text": [
      "sales = (0.0475577623724944 * TV) + (0.1801944159143916 *  Radio) + (0.006464961489965146 * Newspaper)\n"
     ]
    }
   ],
   "source": [
    "w1, w2, w3 = ridge_model.coef_\n",
    "equation = \"sales = ({} * TV) + ({} *  Radio) + ({} * Newspaper)\".format(w1,w2,w3)\n",
    "print(equation)"
   ]
  },
  {
   "cell_type": "code",
   "execution_count": 60,
   "id": "3d86f082",
   "metadata": {},
   "outputs": [
    {
     "data": {
      "text/plain": [
       "<AxesSubplot:>"
      ]
     },
     "execution_count": 60,
     "metadata": {},
     "output_type": "execute_result"
    },
    {
     "data": {
      "image/png": "[encoded data removed]",
      "text/plain": [
       "<Figure size 720x720 with 1 Axes>"
      ]
     },
     "metadata": {
      "needs_background": "light"
     },
     "output_type": "display_data"
    }
   ],
   "source": [
    "#feature importance with L2 REGULAIZER\n",
    "# Visualizing Feature Importance\n",
    "feat_importances = pd.Series(ridge_model.coef_, index=x2.columns)\n",
    "feat_importances.nlargest(25).plot(kind='barh',figsize=(10,10))"
   ]
  },
  {
   "cell_type": "code",
   "execution_count": 61,
   "id": "560de44c",
   "metadata": {},
   "outputs": [
    {
     "data": {
      "text/html": [
       "<div>\n",
       "<style scoped>\n",
       "    .dataframe tbody tr th:only-of-type {\n",
       "        vertical-align: middle;\n",
       "    }\n",
       "\n",
       "    .dataframe tbody tr th {\n",
       "        vertical-align: top;\n",
       "    }\n",
       "\n",
       "    .dataframe thead th {\n",
       "        text-align: right;\n",
       "    }\n",
       "</style>\n",
       "<table border=\"1\" class=\"dataframe\">\n",
       "  <thead>\n",
       "    <tr style=\"text-align: right;\">\n",
       "      <th></th>\n",
       "      <th>Actual</th>\n",
       "      <th>Predicted</th>\n",
       "    </tr>\n",
       "  </thead>\n",
       "  <tbody>\n",
       "    <tr>\n",
       "      <th>0</th>\n",
       "      <td>14.1</td>\n",
       "      <td>13.866700</td>\n",
       "    </tr>\n",
       "    <tr>\n",
       "      <th>1</th>\n",
       "      <td>11.9</td>\n",
       "      <td>15.033476</td>\n",
       "    </tr>\n",
       "    <tr>\n",
       "      <th>2</th>\n",
       "      <td>9.2</td>\n",
       "      <td>10.603031</td>\n",
       "    </tr>\n",
       "    <tr>\n",
       "      <th>3</th>\n",
       "      <td>11.0</td>\n",
       "      <td>10.103727</td>\n",
       "    </tr>\n",
       "    <tr>\n",
       "      <th>4</th>\n",
       "      <td>11.4</td>\n",
       "      <td>10.213712</td>\n",
       "    </tr>\n",
       "  </tbody>\n",
       "</table>\n",
       "</div>"
      ],
      "text/plain": [
       "   Actual  Predicted\n",
       "0    14.1  13.866700\n",
       "1    11.9  15.033476\n",
       "2     9.2  10.603031\n",
       "3    11.0  10.103727\n",
       "4    11.4  10.213712"
      ]
     },
     "execution_count": 61,
     "metadata": {},
     "output_type": "execute_result"
    }
   ],
   "source": [
    "# Defining Actual and Predicted values\n",
    "y_pred = ridge_model.predict(X_test)\n",
    "labels = y_test\n",
    "df_temp = pd.DataFrame({'Actual': labels, 'Predicted':y_pred})\n",
    "df_temp=df_temp.reset_index(drop=True)\n",
    "df_temp.head()"
   ]
  },
  {
   "cell_type": "code",
   "execution_count": 62,
   "id": "f77268bc",
   "metadata": {},
   "outputs": [
    {
     "data": {
      "image/png": "[encoded data removed]",
      "text/plain": [
       "<Figure size 1200x480 with 1 Axes>"
      ]
     },
     "metadata": {},
     "output_type": "display_data"
    }
   ],
   "source": [
    "\n",
    "# Creating Line Graph\n",
    "from matplotlib.pyplot import figure\n",
    "figure(num=None, figsize=(15, 6), dpi=80, facecolor='w', edgecolor='k')\n",
    "y1 = df_temp['Actual']\n",
    "y2 = df_temp['Predicted']\n",
    "plt.plot(y1, label = 'Actual')\n",
    "plt.plot(y2, label = 'Predicted')\n",
    "plt.legend()\n",
    "plt.show()\n"
   ]
  },
  {
   "cell_type": "markdown",
   "id": "fb9738f1",
   "metadata": {},
   "source": [
    "# 4. GBDT(Gradient Boosting Decision Tree)\n",
    "\n",
    "For GBDT, we will use XGBOOST LIBRARY"
   ]
  },
  {
   "cell_type": "code",
   "execution_count": 66,
   "id": "08337d54",
   "metadata": {},
   "outputs": [
    {
     "name": "stdout",
     "output_type": "stream",
     "text": [
      "XGBRegressor(base_score=0.5, booster='gbtree', colsample_bylevel=1,\n",
      "             colsample_bynode=1, colsample_bytree=1, gamma=0, gpu_id=-1,\n",
      "             importance_type='gain', interaction_constraints='',\n",
      "             learning_rate=0.300000012, max_delta_step=0, max_depth=4,\n",
      "             min_child_weight=1, missing=nan, monotone_constraints='()',\n",
      "             n_estimators=200, n_jobs=8, num_parallel_tree=1, random_state=123,\n",
      "             reg_alpha=0, reg_lambda=1, scale_pos_weight=1, seed=123,\n",
      "             subsample=1, tree_method='exact', validate_parameters=1,\n",
      "             verbosity=None)\n",
      "The R^2 score is 0.973842045517139\n"
     ]
    }
   ],
   "source": [
    "import xgboost as xg\n",
    "xgb_r = xg.XGBRegressor(seed = 123)\n",
    "\n",
    "\n",
    "param_grid = {\n",
    "    'n_estimators': [200,300, 500],\n",
    "    'max_depth' : [4,5,6]\n",
    "}\n",
    "model_gbdt=GridSearchCV(xgb_r,param_grid)\n",
    "\n",
    "model_gbdt.fit(X_train,y_train)\n",
    "\n",
    "print(model_gbdt.best_estimator_)\n",
    "print(\"The R^2 score is\",model_gbdt.score(X_test,y_test)) #return the R^2 "
   ]
  },
  {
   "cell_type": "code",
   "execution_count": 67,
   "id": "f7be9baf",
   "metadata": {},
   "outputs": [],
   "source": [
    "gbdt_xg= xg.XGBRegressor(n_estimators=200,max_depth=4,seed = 123)\n",
    "gbdt_xg.fit(X_train,y_train)\n",
    "y_pred_xg=gbdt_xg.predict(X_test)"
   ]
  },
  {
   "cell_type": "code",
   "execution_count": 68,
   "id": "aa024b54",
   "metadata": {},
   "outputs": [
    {
     "name": "stdout",
     "output_type": "stream",
     "text": [
      "The Mean Square error is  0.48676872466854065\n",
      "The R^2 Value is 0.973842045517139\n",
      "The Adjusted R2 is 0.9734416686628096\n"
     ]
    }
   ],
   "source": [
    "#PERFROMANCE OF THE GBDT regressor\n",
    "#MEAN_SQUARED_ERROR\n",
    "\n",
    "print(\"The Mean Square error is \",mean_squared_error(y_test, y_pred_xg))\n",
    "\n",
    "#R^2\n",
    "R2_xg=r2_score(y_test,y_pred_xg)\n",
    "print(\"The R^2 Value is\",R2_xg)\n",
    "\n",
    "#adjusted r^2 value\n",
    "n=x2.shape[0] #number of rows\n",
    "p=x2.shape[1] #numbr of features\n",
    "Adj_r2_xg = 1-(1-R2_xg)*(n-1)/(n-p-1)\n",
    "\n",
    "print(\"The Adjusted R2 is\",Adj_r2_xg)"
   ]
  },
  {
   "cell_type": "code",
   "execution_count": 69,
   "id": "e0dca3e4",
   "metadata": {},
   "outputs": [],
   "source": [
    "f_importance=gbdt_xg.feature_importances_"
   ]
  },
  {
   "cell_type": "code",
   "execution_count": 70,
   "id": "4054bac6",
   "metadata": {},
   "outputs": [
    {
     "name": "stdout",
     "output_type": "stream",
     "text": [
      "sales = (0.7091736793518066 * TV) + (0.28797149658203125 *  Radio) + (0.002854815451428294 * Newspaper)\n"
     ]
    }
   ],
   "source": [
    "w1, w2, w3 = gbdt_xg.feature_importances_\n",
    "equation = \"sales = ({} * TV) + ({} *  Radio) + ({} * Newspaper)\".format(w1,w2,w3)\n",
    "print(equation)"
   ]
  },
  {
   "cell_type": "code",
   "execution_count": 71,
   "id": "2cf77945",
   "metadata": {},
   "outputs": [
    {
     "data": {
      "text/html": [
       "<div>\n",
       "<style scoped>\n",
       "    .dataframe tbody tr th:only-of-type {\n",
       "        vertical-align: middle;\n",
       "    }\n",
       "\n",
       "    .dataframe tbody tr th {\n",
       "        vertical-align: top;\n",
       "    }\n",
       "\n",
       "    .dataframe thead th {\n",
       "        text-align: right;\n",
       "    }\n",
       "</style>\n",
       "<table border=\"1\" class=\"dataframe\">\n",
       "  <thead>\n",
       "    <tr style=\"text-align: right;\">\n",
       "      <th></th>\n",
       "      <th>0</th>\n",
       "    </tr>\n",
       "  </thead>\n",
       "  <tbody>\n",
       "    <tr>\n",
       "      <th>TV</th>\n",
       "      <td>0.709174</td>\n",
       "    </tr>\n",
       "    <tr>\n",
       "      <th>radio</th>\n",
       "      <td>0.287971</td>\n",
       "    </tr>\n",
       "    <tr>\n",
       "      <th>newspaper</th>\n",
       "      <td>0.002855</td>\n",
       "    </tr>\n",
       "  </tbody>\n",
       "</table>\n",
       "</div>"
      ],
      "text/plain": [
       "                  0\n",
       "TV         0.709174\n",
       "radio      0.287971\n",
       "newspaper  0.002855"
      ]
     },
     "execution_count": 71,
     "metadata": {},
     "output_type": "execute_result"
    }
   ],
   "source": [
    "pd.DataFrame(f_importance, \n",
    "            x2.columns)"
   ]
  },
  {
   "cell_type": "code",
   "execution_count": 72,
   "id": "3d3f2114",
   "metadata": {},
   "outputs": [
    {
     "data": {
      "text/plain": [
       "<AxesSubplot:>"
      ]
     },
     "execution_count": 72,
     "metadata": {},
     "output_type": "execute_result"
    },
    {
     "data": {
      "image/png": "[encoded data removed]",
      "text/plain": [
       "<Figure size 720x720 with 1 Axes>"
      ]
     },
     "metadata": {
      "needs_background": "light"
     },
     "output_type": "display_data"
    }
   ],
   "source": [
    "#feature importance plot for GBDT\n",
    "# Visualizing Feature Importance\n",
    "feat_importances = pd.Series(f_importance, index=x2.columns)\n",
    "feat_importances.nlargest(25).plot(kind='barh',figsize=(10,10))"
   ]
  },
  {
   "cell_type": "code",
   "execution_count": 73,
   "id": "dcd18c69",
   "metadata": {},
   "outputs": [
    {
     "data": {
      "text/html": [
       "<div>\n",
       "<style scoped>\n",
       "    .dataframe tbody tr th:only-of-type {\n",
       "        vertical-align: middle;\n",
       "    }\n",
       "\n",
       "    .dataframe tbody tr th {\n",
       "        vertical-align: top;\n",
       "    }\n",
       "\n",
       "    .dataframe thead th {\n",
       "        text-align: right;\n",
       "    }\n",
       "</style>\n",
       "<table border=\"1\" class=\"dataframe\">\n",
       "  <thead>\n",
       "    <tr style=\"text-align: right;\">\n",
       "      <th></th>\n",
       "      <th>Actual</th>\n",
       "      <th>Predicted</th>\n",
       "    </tr>\n",
       "  </thead>\n",
       "  <tbody>\n",
       "    <tr>\n",
       "      <th>0</th>\n",
       "      <td>14.1</td>\n",
       "      <td>14.380721</td>\n",
       "    </tr>\n",
       "    <tr>\n",
       "      <th>1</th>\n",
       "      <td>11.9</td>\n",
       "      <td>11.871456</td>\n",
       "    </tr>\n",
       "    <tr>\n",
       "      <th>2</th>\n",
       "      <td>9.2</td>\n",
       "      <td>7.987011</td>\n",
       "    </tr>\n",
       "    <tr>\n",
       "      <th>3</th>\n",
       "      <td>11.0</td>\n",
       "      <td>11.039511</td>\n",
       "    </tr>\n",
       "    <tr>\n",
       "      <th>4</th>\n",
       "      <td>11.4</td>\n",
       "      <td>11.939294</td>\n",
       "    </tr>\n",
       "  </tbody>\n",
       "</table>\n",
       "</div>"
      ],
      "text/plain": [
       "   Actual  Predicted\n",
       "0    14.1  14.380721\n",
       "1    11.9  11.871456\n",
       "2     9.2   7.987011\n",
       "3    11.0  11.039511\n",
       "4    11.4  11.939294"
      ]
     },
     "execution_count": 73,
     "metadata": {},
     "output_type": "execute_result"
    }
   ],
   "source": [
    "y_pred = gbdt_xg.predict(X_test)\n",
    "labels = y_test\n",
    "df_temp = pd.DataFrame({'Actual': labels, 'Predicted':y_pred})\n",
    "df_temp=df_temp.reset_index(drop=True)\n",
    "df_temp.head()"
   ]
  },
  {
   "cell_type": "code",
   "execution_count": 74,
   "id": "c4078734",
   "metadata": {},
   "outputs": [
    {
     "data": {
      "text/plain": [
       "<AxesSubplot:ylabel='Actual'>"
      ]
     },
     "execution_count": 74,
     "metadata": {},
     "output_type": "execute_result"
    },
    {
     "data": {
      "image/png": "[encoded data removed]",
      "text/plain": [
       "<Figure size 720x576 with 1 Axes>"
      ]
     },
     "metadata": {
      "needs_background": "light"
     },
     "output_type": "display_data"
    }
   ],
   "source": [
    "#sns.lineplot(data=df_temp,x=\"Actual\",y=\"Predicted\")\n",
    "y1 = df_temp['Actual']\n",
    "y2 = df_temp['Predicted']\n",
    "plt.figure(figsize=(10,8))\n",
    "\n",
    "sns.lineplot(data=y1,label=\"Actual\")\n",
    "sns.lineplot(data=y2,label=\"Predicted\")\n"
   ]
  },
  {
   "cell_type": "markdown",
   "id": "e2cf4948",
   "metadata": {},
   "source": [
    "# Conclusion"
   ]
  },
  {
   "cell_type": "code",
   "execution_count": 12,
   "id": "cf1a31b0",
   "metadata": {},
   "outputs": [
    {
     "name": "stdout",
     "output_type": "stream",
     "text": [
      "+---------------------------------------+-------------------+----------+-------------------+\n",
      "|               ALGORITHM               | MEAN_SQUARE_ERROR | R2 VALUE | ADJUSTED R2 VALUE |\n",
      "+---------------------------------------+-------------------+----------+-------------------+\n",
      "|             Random Forest             |       0.333       |  0.982   |       0.981       |\n",
      "|           Linear regression           |        2.62       |  0.859   |       0.856       |\n",
      "| Linear Regression with L2 Regularizer |        2.63       |  0.858   |       0.856       |\n",
      "|                  GBDT                 |       0.486       |  0.9738  |       0.973       |\n",
      "+---------------------------------------+-------------------+----------+-------------------+\n"
     ]
    }
   ],
   "source": [
    "from prettytable import PrettyTable\n",
    "columns=([\"ALGORITHM\", \"MEAN_SQUARE_ERROR\",\"R2 VALUE\",\"ADJUSTED R2 VALUE\"])\n",
    "myTable = PrettyTable()\n",
    "myTable.add_column(columns[0], [\"Random Forest\",\"Linear regression\",\"Linear Regression with L2 Regularizer\", \"GBDT\" ])\n",
    "myTable.add_column(columns[1], [\"0.333\",\" 2.62\",\"2.63\",\"0.486\"])\n",
    "myTable.add_column(columns[2], [\"0.982\",\"0.859\",\"0.858\",\"0.9738\"])\n",
    "myTable.add_column(columns[3],[\"0.981\",\"0.856\",\"0.856\",\"0.973\"])\n",
    "\n",
    "print(myTable)\n",
    "\n"
   ]
  },
  {
   "cell_type": "markdown",
   "id": "3a91188b",
   "metadata": {},
   "source": [
    "1. So out of all four algorithms, Random Forest has the least mean square error which is 0.33, we want mean sqaure error to be minimum.\n",
    "\n",
    "\n",
    "2. Out of all four algorithms, Random forest has the maximum R2 value which is 0.982.\n",
    "\n",
    "\n",
    "3. Out of all four algorithms, Random forest has the maximum R2 value which is 0.981.\n",
    "\n",
    "\n",
    "4. Also Random Forest is giving us the very good Feature Importance scores\n",
    "\n",
    "\n",
    "<b>sales = (0.6828260179480447 * TV) + (0.30882519413197784 *  Radio) + (0.008348787919977457 * Newspaper)\n",
    "\n",
    "It can be simply interpretated that 68.2% of the sales coming from the TV marketing, 30% of the sales coming from the Radio Marketing and only 0.8% sales coming from the Newspaper marketing </b>\n",
    "\n",
    "So the best algorithm in this case study will be RANDOM FOREST."
   ]
  },
  {
   "cell_type": "markdown",
   "id": "b2643145",
   "metadata": {},
   "source": [
    "# Approach-3 (Markov-Chain Model)\n",
    "\n",
    "Our aim is very simple, we want to understand that what marketing channel contribute to sales and in what proportion.\n",
    "\n",
    "We will see, how MARKOV CHAIN MODEL can help us to solve this problem.\n",
    "\n",
    "Before going to Markov Chain Model, lets understand the data for this case study."
   ]
  },
  {
   "cell_type": "markdown",
   "id": "1bce008c",
   "metadata": {},
   "source": [
    "# Data \n",
    "\n",
    "Here we have a interesting data, we have a data in which a ad have been showed to people through different channels\n",
    "like instagram,online display, paid search, youtube video, facebook.\n",
    "\n",
    "Lets discuss Features...\n",
    "\n",
    "<b>Feature-1--> Cookie</b>\n",
    "\n",
    "To identify every user, we have a cookie and respective channel on which the ad has been shown.\n",
    "\n",
    "<b>Feature-2--> Time</b>\n",
    "\n",
    "This is just the time when a particular ad was shown to a user.\n",
    "\n",
    "<b>Feature-3--> Interaction</b>\n",
    "\n",
    "For every ad shown to every user, We have a interaction features which tells us whether that ad was just a impression or that ad converted to a impression.\n",
    "\n",
    "<b>Feature-4--> Conversion</b>\n",
    "\n",
    "This feature tells us whther there was a coversion or not.\n",
    "\n",
    "<b>Feature-5--> Channel</b>\n",
    "\n",
    "To single user, we are showing ads to multiple channels through a path,channel could be Instagram, Facebook or Youtube Video\n",
    "\n",
    "For example, \n",
    "\n",
    "There could be a chance that a user has seen a ad on instagram first, then on facebook and then on youtube and finally he purchased that item, so understanding that path and understanding what channel causes that conversion is very important.\n",
    "\n"
   ]
  },
  {
   "cell_type": "markdown",
   "id": "25cd2330",
   "metadata": {},
   "source": [
    "# Markov Chain Approach\n",
    "\n",
    "Let's formulate our problem in a way that Marcov chains can help us to solve the problem\n",
    "\n",
    "Here we have some states, lets discuss them one by one...\n",
    "\n",
    "<b>    \n",
    "    \n",
    "    \n",
    "S0- It is the starting state, where we are assuming customer had not seen an ad yet\n",
    "    \n",
    "\n",
    "SF- It is a state where we have shown the ad to the user through FACEBOOK Ads\n",
    "    \n",
    "\n",
    "SF- It is a state where we have shown the ad to the user through GOOGLE Ads\n",
    "    \n",
    "\n",
    "SNP-It is a state where customer has not purchased an item, so this is NO-CONVERSION State.\n",
    "    \n",
    "\n",
    "SP- It is a state where customer has purchased an item, so this is a CONVERSION State.\n",
    "\n",
    "</b>\n",
    "\n",
    "\n",
    "From the above diagram, we can see that without showing any ad, there is 40% sale value, this is called the direct sale, so we can say that,\n",
    "\n",
    "\n",
    "P(SP/S0)=0.4 \n",
    "\n",
    "<b>(It means the probability that customer will directly go to purchase state given that he was at 0th state or starting state is 0.4)</b>\n",
    "\n",
    "These weights are conditional probabilities.\n",
    "\n",
    "P(SNP/S0)=0.1\n",
    "\n",
    "<b>(It means the probability that customer will directly will not purchase is 0.1)</b>\n",
    "\n",
    "\n",
    "P(SF/S0)=0.1\n",
    "\n",
    "<b>(It means there is a 10% probability that we show a FB ad to a user)</b>\n",
    "\n",
    "\n",
    "P(SP/SF)=0.1\n",
    "\n",
    "<b>(It means the probability of a customer that he will purchase given that he has seen the FB ad is 0.1)</b>\n",
    "\n",
    "# Now the question is, How do we fill these probabilities??\n",
    "\n",
    "We do it from data, lets say we have 10k customers at S0 state, now we decide to show some of them FB ads, some of them Google ads, then see how many of them converted and how many did not get converted, we will fil these probabilities emperically/through observation.\n",
    "\n",
    "These are simple conditional probabilities, by observation we found that 4k people end up purchasing without showing any ad, it means what is the probability that customer will go to purchase state given that he/she is on initial stage, it is simply 4k/10k which is 0.4.\n",
    "\n",
    "\n",
    "Also there is a temporal angle to it that if customer comes to website and does not purchase in 7 days, I will say customer has not purchased.\n",
    "\n",
    "\n",
    "\n",
    "# MemoryLess Property of Markov Chains\n",
    "\n",
    "Now markov chain has this MemoryLess property, lets discuss that in detail...\n",
    "\n",
    "<b>P(Sj/Sj-1,Sj-2.....S0)=P(Sj/Sj-1)</b>\n",
    "\n",
    "Here this equation simply says that, Probabilty of going to STATE Sj only depends on the previous state,it does not care about history of other states, as it is shown above in the formula, Probability of going Sj will only depend on the Sj-1 and not on earlier states or path.\n",
    "\n",
    "Now the question is,  <b>DOES MemoryLess Property actually hold in our marketing problem?</b>\n",
    "\n",
    "Memeoryless property states that probability of reaching to the current state just depends upon the previous state and not the path previous to that, for example\n",
    "\n",
    "Lets say a user was shown a Facebood ad first, then a Google ad, Now we want to know the probabilty that he will purchase the product, so according to markov memory less property, probability of coversion depends upon the previous state which is a Google ad in this case so HERE IN THIS CASE \n",
    "\n",
    "<b>P(CONVERSION/GOOGLE_AD, FACEBOOK_AD)=P(CONVERSION/GOOGLE_AD)=0.3(given in the diagram)</b>\n",
    "\n",
    "Marcov memory less property/assumption makes our life very simple as it neglects the path but if we think logically probability of conversion here just do not depends on Google_ad, it also depends upon Facebook_ad but here we are neglecting that.\n",
    "\n",
    "Now when we have this property, we can come with the overall P(CONVERSION), which is\n",
    "\n",
    "P(SP)=(0.4)+(0.1*0.1)+(0.1*0.1*0.3)+(0.4*0.3)=0.533\n",
    "\n",
    "SP here is simply the purchase state.\n",
    "\n",
    "Again this multiplication we can only do when we are assuming that probability of reaching SP only depends on the previous state.\n",
    "\n",
    "# Now coming to Attribution Modelling Problem\n",
    "\n",
    "We have started with the very basic problem, we wanted to understand the contribution of each and every marketing channel in the sales so that we can improve the system.\n",
    "\n",
    "We wanted to understand the impact of a particular channel, lets say i want to understand the how important Google ads are in above example,\n",
    "Lets Just remove Google from the markov diagram and then see how will it change the conversion probabilty.\n",
    "\n",
    "P(SP)=(0.4)+(0.1*0.1)=0.41\n",
    "\n",
    "P(SP) WHEN GOOGLE ADS WAS THERE =0.533\n",
    "\n",
    "P(SP) WHEN NO GOOGLE ADS= 0.41\n",
    "\n",
    "EFFECT OF REMOVAL= 1-(0.41/0.533)=0.23\n",
    "\n",
    "Lets say earlier i have 1000 conversions, now after removing google conversion will be 1000*(0.41/0.533)=773.5, Now i will have 773 conversion.\n",
    "\n",
    "<b>  23.07% Percentage of sales would be lost if we do not use Google Ads\n",
    "   \n",
    "</b>\n",
    "\n",
    "# Drawbacks of Marcov Chains\n",
    "\n",
    "The major issue with markov chains is its Memoryless Assumption, if we do not use this assumption them time complexity would be exponential.\n",
    "\n",
    "\n",
    "# How will we compute Edge Weight/Probabilities?\n",
    "\n",
    "Lets understand this by a simple example, imagine a company wants to spend $100k dollars on a marketing campaign, tall the money spent on different channels for next 30 days, after the campaign ended in 30 days , company waited for more 7 days for conversion, In this whole time, few people will go for direct sales, few will go after Google Ads, Few will go after Facebok Ad and so on. \n",
    "\n",
    "Based on this data, we will emperically add probabilies and find the conditional probabilites or edge weight."
   ]
  },
  {
   "cell_type": "code",
   "execution_count": 4,
   "id": "dbc898a4",
   "metadata": {},
   "outputs": [
    {
     "data": {
      "text/html": [
       "<div>\n",
       "<style scoped>\n",
       "    .dataframe tbody tr th:only-of-type {\n",
       "        vertical-align: middle;\n",
       "    }\n",
       "\n",
       "    .dataframe tbody tr th {\n",
       "        vertical-align: top;\n",
       "    }\n",
       "\n",
       "    .dataframe thead th {\n",
       "        text-align: right;\n",
       "    }\n",
       "</style>\n",
       "<table border=\"1\" class=\"dataframe\">\n",
       "  <thead>\n",
       "    <tr style=\"text-align: right;\">\n",
       "      <th></th>\n",
       "      <th>cookie</th>\n",
       "      <th>time</th>\n",
       "      <th>interaction</th>\n",
       "      <th>conversion</th>\n",
       "      <th>conversion_value</th>\n",
       "      <th>channel</th>\n",
       "    </tr>\n",
       "  </thead>\n",
       "  <tbody>\n",
       "    <tr>\n",
       "      <th>0</th>\n",
       "      <td>00000FkCnDfDDf0iC97iC703B</td>\n",
       "      <td>2018-07-03T13:02:11Z</td>\n",
       "      <td>impression</td>\n",
       "      <td>0</td>\n",
       "      <td>0.0</td>\n",
       "      <td>Instagram</td>\n",
       "    </tr>\n",
       "    <tr>\n",
       "      <th>1</th>\n",
       "      <td>00000FkCnDfDDf0iC97iC703B</td>\n",
       "      <td>2018-07-17T19:15:07Z</td>\n",
       "      <td>impression</td>\n",
       "      <td>0</td>\n",
       "      <td>0.0</td>\n",
       "      <td>Online Display</td>\n",
       "    </tr>\n",
       "    <tr>\n",
       "      <th>2</th>\n",
       "      <td>00000FkCnDfDDf0iC97iC703B</td>\n",
       "      <td>2018-07-24T15:51:46Z</td>\n",
       "      <td>impression</td>\n",
       "      <td>0</td>\n",
       "      <td>0.0</td>\n",
       "      <td>Online Display</td>\n",
       "    </tr>\n",
       "    <tr>\n",
       "      <th>3</th>\n",
       "      <td>00000FkCnDfDDf0iC97iC703B</td>\n",
       "      <td>2018-07-29T07:44:51Z</td>\n",
       "      <td>impression</td>\n",
       "      <td>0</td>\n",
       "      <td>0.0</td>\n",
       "      <td>Online Display</td>\n",
       "    </tr>\n",
       "    <tr>\n",
       "      <th>4</th>\n",
       "      <td>0000nACkD9nFkBBDECD3ki00E</td>\n",
       "      <td>2018-07-03T09:44:57Z</td>\n",
       "      <td>impression</td>\n",
       "      <td>0</td>\n",
       "      <td>0.0</td>\n",
       "      <td>Paid Search</td>\n",
       "    </tr>\n",
       "  </tbody>\n",
       "</table>\n",
       "</div>"
      ],
      "text/plain": [
       "                      cookie                  time interaction  conversion  \\\n",
       "0  00000FkCnDfDDf0iC97iC703B  2018-07-03T13:02:11Z  impression           0   \n",
       "1  00000FkCnDfDDf0iC97iC703B  2018-07-17T19:15:07Z  impression           0   \n",
       "2  00000FkCnDfDDf0iC97iC703B  2018-07-24T15:51:46Z  impression           0   \n",
       "3  00000FkCnDfDDf0iC97iC703B  2018-07-29T07:44:51Z  impression           0   \n",
       "4  0000nACkD9nFkBBDECD3ki00E  2018-07-03T09:44:57Z  impression           0   \n",
       "\n",
       "   conversion_value         channel  \n",
       "0               0.0       Instagram  \n",
       "1               0.0  Online Display  \n",
       "2               0.0  Online Display  \n",
       "3               0.0  Online Display  \n",
       "4               0.0     Paid Search  "
      ]
     },
     "execution_count": 4,
     "metadata": {},
     "output_type": "execute_result"
    }
   ],
   "source": [
    "# importing libraries\n",
    "import pandas as pd\n",
    "\n",
    "df=pd.read_csv(\"attribution data.csv\")\n",
    "df.head()"
   ]
  },
  {
   "cell_type": "code",
   "execution_count": 5,
   "id": "bc6e36af",
   "metadata": {},
   "outputs": [
    {
     "data": {
      "text/plain": [
       "impression    569098\n",
       "conversion     17639\n",
       "Name: interaction, dtype: int64"
      ]
     },
     "execution_count": 5,
     "metadata": {},
     "output_type": "execute_result"
    }
   ],
   "source": [
    "#interaction has 2 categories, one is Impression , second is Conversion\n",
    "df['interaction'].value_counts()\n"
   ]
  },
  {
   "cell_type": "code",
   "execution_count": 3,
   "id": "3a4c19a3",
   "metadata": {},
   "outputs": [
    {
     "data": {
      "text/plain": [
       "(586737, 6)"
      ]
     },
     "execution_count": 3,
     "metadata": {},
     "output_type": "execute_result"
    }
   ],
   "source": [
    "df.shape\n"
   ]
  },
  {
   "cell_type": "code",
   "execution_count": 4,
   "id": "ce85a210",
   "metadata": {},
   "outputs": [
    {
     "name": "stdout",
     "output_type": "stream",
     "text": [
      "<class 'pandas.core.frame.DataFrame'>\n",
      "RangeIndex: 586737 entries, 0 to 586736\n",
      "Data columns (total 6 columns):\n",
      " #   Column            Non-Null Count   Dtype  \n",
      "---  ------            --------------   -----  \n",
      " 0   cookie            586737 non-null  object \n",
      " 1   time              586737 non-null  object \n",
      " 2   interaction       586737 non-null  object \n",
      " 3   conversion        586737 non-null  int64  \n",
      " 4   conversion_value  586737 non-null  float64\n",
      " 5   channel           586737 non-null  object \n",
      "dtypes: float64(1), int64(1), object(4)\n",
      "memory usage: 26.9+ MB\n"
     ]
    }
   ],
   "source": [
    "df.info()"
   ]
  },
  {
   "cell_type": "code",
   "execution_count": 78,
   "id": "cf45f9ba",
   "metadata": {},
   "outputs": [
    {
     "data": {
      "text/html": [
       "<div>\n",
       "<style scoped>\n",
       "    .dataframe tbody tr th:only-of-type {\n",
       "        vertical-align: middle;\n",
       "    }\n",
       "\n",
       "    .dataframe tbody tr th {\n",
       "        vertical-align: top;\n",
       "    }\n",
       "\n",
       "    .dataframe thead th {\n",
       "        text-align: right;\n",
       "    }\n",
       "</style>\n",
       "<table border=\"1\" class=\"dataframe\">\n",
       "  <thead>\n",
       "    <tr style=\"text-align: right;\">\n",
       "      <th></th>\n",
       "      <th>conversion</th>\n",
       "      <th>conversion_value</th>\n",
       "    </tr>\n",
       "  </thead>\n",
       "  <tbody>\n",
       "    <tr>\n",
       "      <th>count</th>\n",
       "      <td>586737.000000</td>\n",
       "      <td>586737.000000</td>\n",
       "    </tr>\n",
       "    <tr>\n",
       "      <th>mean</th>\n",
       "      <td>0.030063</td>\n",
       "      <td>0.187871</td>\n",
       "    </tr>\n",
       "    <tr>\n",
       "      <th>std</th>\n",
       "      <td>0.170760</td>\n",
       "      <td>1.084498</td>\n",
       "    </tr>\n",
       "    <tr>\n",
       "      <th>min</th>\n",
       "      <td>0.000000</td>\n",
       "      <td>0.000000</td>\n",
       "    </tr>\n",
       "    <tr>\n",
       "      <th>25%</th>\n",
       "      <td>0.000000</td>\n",
       "      <td>0.000000</td>\n",
       "    </tr>\n",
       "    <tr>\n",
       "      <th>50%</th>\n",
       "      <td>0.000000</td>\n",
       "      <td>0.000000</td>\n",
       "    </tr>\n",
       "    <tr>\n",
       "      <th>75%</th>\n",
       "      <td>0.000000</td>\n",
       "      <td>0.000000</td>\n",
       "    </tr>\n",
       "    <tr>\n",
       "      <th>max</th>\n",
       "      <td>1.000000</td>\n",
       "      <td>8.500000</td>\n",
       "    </tr>\n",
       "  </tbody>\n",
       "</table>\n",
       "</div>"
      ],
      "text/plain": [
       "          conversion  conversion_value\n",
       "count  586737.000000     586737.000000\n",
       "mean        0.030063          0.187871\n",
       "std         0.170760          1.084498\n",
       "min         0.000000          0.000000\n",
       "25%         0.000000          0.000000\n",
       "50%         0.000000          0.000000\n",
       "75%         0.000000          0.000000\n",
       "max         1.000000          8.500000"
      ]
     },
     "execution_count": 78,
     "metadata": {},
     "output_type": "execute_result"
    }
   ],
   "source": [
    "df.describe()"
   ]
  },
  {
   "cell_type": "code",
   "execution_count": 129,
   "id": "f5e29767",
   "metadata": {},
   "outputs": [
    {
     "data": {
      "text/plain": [
       "cookie              0\n",
       "time                0\n",
       "interaction         0\n",
       "conversion          0\n",
       "conversion_value    0\n",
       "channel             0\n",
       "dtype: int64"
      ]
     },
     "execution_count": 129,
     "metadata": {},
     "output_type": "execute_result"
    }
   ],
   "source": [
    "df.isnull().sum()\n",
    "#there are no null values in the data"
   ]
  },
  {
   "cell_type": "code",
   "execution_count": 6,
   "id": "282f60ec",
   "metadata": {},
   "outputs": [
    {
     "data": {
      "text/plain": [
       "4145"
      ]
     },
     "execution_count": 6,
     "metadata": {},
     "output_type": "execute_result"
    }
   ],
   "source": [
    "df.duplicated().sum()\n",
    "#so there are 4145 duplicates in the data, we have to remove these duplicate values"
   ]
  },
  {
   "cell_type": "code",
   "execution_count": 7,
   "id": "6f66cf25",
   "metadata": {},
   "outputs": [],
   "source": [
    "df2=df.drop_duplicates()\n",
    "#lets remove the duplicated"
   ]
  },
  {
   "cell_type": "code",
   "execution_count": 8,
   "id": "b4e5177b",
   "metadata": {},
   "outputs": [
    {
     "data": {
      "text/plain": [
       "(582592, 6)"
      ]
     },
     "execution_count": 8,
     "metadata": {},
     "output_type": "execute_result"
    }
   ],
   "source": [
    "df2.shape\n",
    "#after removing duplicates we got 582592 rows"
   ]
  },
  {
   "cell_type": "code",
   "execution_count": 9,
   "id": "e22ed2f5",
   "metadata": {},
   "outputs": [
    {
     "data": {
      "text/plain": [
       "0"
      ]
     },
     "execution_count": 9,
     "metadata": {},
     "output_type": "execute_result"
    }
   ],
   "source": [
    "df2.duplicated().sum()\n",
    "#no duplicates in the data now"
   ]
  },
  {
   "cell_type": "code",
   "execution_count": 10,
   "id": "344da586",
   "metadata": {},
   "outputs": [
    {
     "name": "stdout",
     "output_type": "stream",
     "text": [
      "240108\n"
     ]
    }
   ],
   "source": [
    "print(len(df2['cookie'].unique()))\n",
    "#so we can say in this data we have 2 lakh 40 thousand and 108 unique people"
   ]
  },
  {
   "cell_type": "markdown",
   "id": "5f81ba9f",
   "metadata": {},
   "source": [
    "<b>The data set contains 582592 marketing touch-points for 240108 unique customers which resulted in 18,000 thousand conversion events.</b>\n"
   ]
  },
  {
   "cell_type": "code",
   "execution_count": 11,
   "id": "ec656f12",
   "metadata": {},
   "outputs": [
    {
     "data": {
      "text/plain": [
       "impression    564953\n",
       "conversion     17639\n",
       "Name: interaction, dtype: int64"
      ]
     },
     "execution_count": 11,
     "metadata": {},
     "output_type": "execute_result"
    }
   ],
   "source": [
    "df2['interaction'].value_counts()"
   ]
  },
  {
   "cell_type": "code",
   "execution_count": 114,
   "id": "bf8fe5f7",
   "metadata": {},
   "outputs": [
    {
     "data": {
      "text/plain": [
       "Facebook          175068\n",
       "Paid Search       150666\n",
       "Online Video      110879\n",
       "Instagram          75096\n",
       "Online Display     70883\n",
       "Name: channel, dtype: int64"
      ]
     },
     "execution_count": 114,
     "metadata": {},
     "output_type": "execute_result"
    }
   ],
   "source": [
    "df2['channel'].value_counts()"
   ]
  },
  {
   "cell_type": "code",
   "execution_count": 115,
   "id": "9e5cbe95",
   "metadata": {},
   "outputs": [
    {
     "data": {
      "text/plain": [
       "0    564953\n",
       "1     17639\n",
       "Name: conversion, dtype: int64"
      ]
     },
     "execution_count": 115,
     "metadata": {},
     "output_type": "execute_result"
    }
   ],
   "source": [
    "df2['conversion'].value_counts()"
   ]
  },
  {
   "cell_type": "code",
   "execution_count": 12,
   "id": "9cdc6690",
   "metadata": {},
   "outputs": [
    {
     "data": {
      "text/html": [
       "<div>\n",
       "<style scoped>\n",
       "    .dataframe tbody tr th:only-of-type {\n",
       "        vertical-align: middle;\n",
       "    }\n",
       "\n",
       "    .dataframe tbody tr th {\n",
       "        vertical-align: top;\n",
       "    }\n",
       "\n",
       "    .dataframe thead th {\n",
       "        text-align: right;\n",
       "    }\n",
       "</style>\n",
       "<table border=\"1\" class=\"dataframe\">\n",
       "  <thead>\n",
       "    <tr style=\"text-align: right;\">\n",
       "      <th></th>\n",
       "      <th>cookie</th>\n",
       "      <th>time</th>\n",
       "      <th>interaction</th>\n",
       "      <th>conversion</th>\n",
       "      <th>conversion_value</th>\n",
       "      <th>channel</th>\n",
       "    </tr>\n",
       "  </thead>\n",
       "  <tbody>\n",
       "    <tr>\n",
       "      <th>586736</th>\n",
       "      <td>ooooohAFofEnonEikhAi3fF9o</td>\n",
       "      <td>2018-07-14T17:17:12Z</td>\n",
       "      <td>impression</td>\n",
       "      <td>0</td>\n",
       "      <td>0.0</td>\n",
       "      <td>Paid Search</td>\n",
       "    </tr>\n",
       "    <tr>\n",
       "      <th>586734</th>\n",
       "      <td>ooooiBh70D3k3BfAhDFfii9h7</td>\n",
       "      <td>2018-07-03T12:57:25Z</td>\n",
       "      <td>impression</td>\n",
       "      <td>0</td>\n",
       "      <td>0.0</td>\n",
       "      <td>Paid Search</td>\n",
       "    </tr>\n",
       "    <tr>\n",
       "      <th>586735</th>\n",
       "      <td>ooooiBh70D3k3BfAhDFfii9h7</td>\n",
       "      <td>2018-07-19T08:17:59Z</td>\n",
       "      <td>impression</td>\n",
       "      <td>0</td>\n",
       "      <td>0.0</td>\n",
       "      <td>Online Video</td>\n",
       "    </tr>\n",
       "    <tr>\n",
       "      <th>586731</th>\n",
       "      <td>ooooEiB0CCoEf9fiiC90Dfhfk</td>\n",
       "      <td>2018-07-06T23:30:38Z</td>\n",
       "      <td>impression</td>\n",
       "      <td>0</td>\n",
       "      <td>0.0</td>\n",
       "      <td>Online Display</td>\n",
       "    </tr>\n",
       "    <tr>\n",
       "      <th>586732</th>\n",
       "      <td>ooooEiB0CCoEf9fiiC90Dfhfk</td>\n",
       "      <td>2018-07-12T23:50:45Z</td>\n",
       "      <td>impression</td>\n",
       "      <td>0</td>\n",
       "      <td>0.0</td>\n",
       "      <td>Online Display</td>\n",
       "    </tr>\n",
       "    <tr>\n",
       "      <th>...</th>\n",
       "      <td>...</td>\n",
       "      <td>...</td>\n",
       "      <td>...</td>\n",
       "      <td>...</td>\n",
       "      <td>...</td>\n",
       "      <td>...</td>\n",
       "    </tr>\n",
       "    <tr>\n",
       "      <th>9</th>\n",
       "      <td>0000nACkD9nFkBBDECD3ki00E</td>\n",
       "      <td>2018-07-11T22:19:53Z</td>\n",
       "      <td>impression</td>\n",
       "      <td>0</td>\n",
       "      <td>0.0</td>\n",
       "      <td>Paid Search</td>\n",
       "    </tr>\n",
       "    <tr>\n",
       "      <th>0</th>\n",
       "      <td>00000FkCnDfDDf0iC97iC703B</td>\n",
       "      <td>2018-07-03T13:02:11Z</td>\n",
       "      <td>impression</td>\n",
       "      <td>0</td>\n",
       "      <td>0.0</td>\n",
       "      <td>Instagram</td>\n",
       "    </tr>\n",
       "    <tr>\n",
       "      <th>1</th>\n",
       "      <td>00000FkCnDfDDf0iC97iC703B</td>\n",
       "      <td>2018-07-17T19:15:07Z</td>\n",
       "      <td>impression</td>\n",
       "      <td>0</td>\n",
       "      <td>0.0</td>\n",
       "      <td>Online Display</td>\n",
       "    </tr>\n",
       "    <tr>\n",
       "      <th>2</th>\n",
       "      <td>00000FkCnDfDDf0iC97iC703B</td>\n",
       "      <td>2018-07-24T15:51:46Z</td>\n",
       "      <td>impression</td>\n",
       "      <td>0</td>\n",
       "      <td>0.0</td>\n",
       "      <td>Online Display</td>\n",
       "    </tr>\n",
       "    <tr>\n",
       "      <th>3</th>\n",
       "      <td>00000FkCnDfDDf0iC97iC703B</td>\n",
       "      <td>2018-07-29T07:44:51Z</td>\n",
       "      <td>impression</td>\n",
       "      <td>0</td>\n",
       "      <td>0.0</td>\n",
       "      <td>Online Display</td>\n",
       "    </tr>\n",
       "  </tbody>\n",
       "</table>\n",
       "<p>582592 rows × 6 columns</p>\n",
       "</div>"
      ],
      "text/plain": [
       "                           cookie                  time interaction  \\\n",
       "586736  ooooohAFofEnonEikhAi3fF9o  2018-07-14T17:17:12Z  impression   \n",
       "586734  ooooiBh70D3k3BfAhDFfii9h7  2018-07-03T12:57:25Z  impression   \n",
       "586735  ooooiBh70D3k3BfAhDFfii9h7  2018-07-19T08:17:59Z  impression   \n",
       "586731  ooooEiB0CCoEf9fiiC90Dfhfk  2018-07-06T23:30:38Z  impression   \n",
       "586732  ooooEiB0CCoEf9fiiC90Dfhfk  2018-07-12T23:50:45Z  impression   \n",
       "...                           ...                   ...         ...   \n",
       "9       0000nACkD9nFkBBDECD3ki00E  2018-07-11T22:19:53Z  impression   \n",
       "0       00000FkCnDfDDf0iC97iC703B  2018-07-03T13:02:11Z  impression   \n",
       "1       00000FkCnDfDDf0iC97iC703B  2018-07-17T19:15:07Z  impression   \n",
       "2       00000FkCnDfDDf0iC97iC703B  2018-07-24T15:51:46Z  impression   \n",
       "3       00000FkCnDfDDf0iC97iC703B  2018-07-29T07:44:51Z  impression   \n",
       "\n",
       "        conversion  conversion_value         channel  \n",
       "586736           0               0.0     Paid Search  \n",
       "586734           0               0.0     Paid Search  \n",
       "586735           0               0.0    Online Video  \n",
       "586731           0               0.0  Online Display  \n",
       "586732           0               0.0  Online Display  \n",
       "...            ...               ...             ...  \n",
       "9                0               0.0     Paid Search  \n",
       "0                0               0.0       Instagram  \n",
       "1                0               0.0  Online Display  \n",
       "2                0               0.0  Online Display  \n",
       "3                0               0.0  Online Display  \n",
       "\n",
       "[582592 rows x 6 columns]"
      ]
     },
     "execution_count": 12,
     "metadata": {},
     "output_type": "execute_result"
    }
   ],
   "source": [
    "df2 = df2.sort_values(['cookie', 'time'],\n",
    "                    ascending=[False, True])\n",
    "df2"
   ]
  },
  {
   "cell_type": "code",
   "execution_count": 13,
   "id": "6be18456",
   "metadata": {},
   "outputs": [],
   "source": [
    "df2['visit_order'] = df2.groupby('cookie').cumcount() + 1\n",
    "\n"
   ]
  },
  {
   "cell_type": "code",
   "execution_count": 134,
   "id": "4e17c97c",
   "metadata": {},
   "outputs": [
    {
     "data": {
      "text/html": [
       "<div>\n",
       "<style scoped>\n",
       "    .dataframe tbody tr th:only-of-type {\n",
       "        vertical-align: middle;\n",
       "    }\n",
       "\n",
       "    .dataframe tbody tr th {\n",
       "        vertical-align: top;\n",
       "    }\n",
       "\n",
       "    .dataframe thead th {\n",
       "        text-align: right;\n",
       "    }\n",
       "</style>\n",
       "<table border=\"1\" class=\"dataframe\">\n",
       "  <thead>\n",
       "    <tr style=\"text-align: right;\">\n",
       "      <th></th>\n",
       "      <th>cookie</th>\n",
       "      <th>time</th>\n",
       "      <th>interaction</th>\n",
       "      <th>conversion</th>\n",
       "      <th>conversion_value</th>\n",
       "      <th>channel</th>\n",
       "      <th>visit_order</th>\n",
       "    </tr>\n",
       "  </thead>\n",
       "  <tbody>\n",
       "    <tr>\n",
       "      <th>586736</th>\n",
       "      <td>ooooohAFofEnonEikhAi3fF9o</td>\n",
       "      <td>2018-07-14T17:17:12Z</td>\n",
       "      <td>impression</td>\n",
       "      <td>0</td>\n",
       "      <td>0.0</td>\n",
       "      <td>Paid Search</td>\n",
       "      <td>1</td>\n",
       "    </tr>\n",
       "    <tr>\n",
       "      <th>586734</th>\n",
       "      <td>ooooiBh70D3k3BfAhDFfii9h7</td>\n",
       "      <td>2018-07-03T12:57:25Z</td>\n",
       "      <td>impression</td>\n",
       "      <td>0</td>\n",
       "      <td>0.0</td>\n",
       "      <td>Paid Search</td>\n",
       "      <td>1</td>\n",
       "    </tr>\n",
       "    <tr>\n",
       "      <th>586735</th>\n",
       "      <td>ooooiBh70D3k3BfAhDFfii9h7</td>\n",
       "      <td>2018-07-19T08:17:59Z</td>\n",
       "      <td>impression</td>\n",
       "      <td>0</td>\n",
       "      <td>0.0</td>\n",
       "      <td>Online Video</td>\n",
       "      <td>2</td>\n",
       "    </tr>\n",
       "    <tr>\n",
       "      <th>586731</th>\n",
       "      <td>ooooEiB0CCoEf9fiiC90Dfhfk</td>\n",
       "      <td>2018-07-06T23:30:38Z</td>\n",
       "      <td>impression</td>\n",
       "      <td>0</td>\n",
       "      <td>0.0</td>\n",
       "      <td>Online Display</td>\n",
       "      <td>1</td>\n",
       "    </tr>\n",
       "    <tr>\n",
       "      <th>586732</th>\n",
       "      <td>ooooEiB0CCoEf9fiiC90Dfhfk</td>\n",
       "      <td>2018-07-12T23:50:45Z</td>\n",
       "      <td>impression</td>\n",
       "      <td>0</td>\n",
       "      <td>0.0</td>\n",
       "      <td>Online Display</td>\n",
       "      <td>2</td>\n",
       "    </tr>\n",
       "    <tr>\n",
       "      <th>...</th>\n",
       "      <td>...</td>\n",
       "      <td>...</td>\n",
       "      <td>...</td>\n",
       "      <td>...</td>\n",
       "      <td>...</td>\n",
       "      <td>...</td>\n",
       "      <td>...</td>\n",
       "    </tr>\n",
       "    <tr>\n",
       "      <th>9</th>\n",
       "      <td>0000nACkD9nFkBBDECD3ki00E</td>\n",
       "      <td>2018-07-11T22:19:53Z</td>\n",
       "      <td>impression</td>\n",
       "      <td>0</td>\n",
       "      <td>0.0</td>\n",
       "      <td>Paid Search</td>\n",
       "      <td>6</td>\n",
       "    </tr>\n",
       "    <tr>\n",
       "      <th>0</th>\n",
       "      <td>00000FkCnDfDDf0iC97iC703B</td>\n",
       "      <td>2018-07-03T13:02:11Z</td>\n",
       "      <td>impression</td>\n",
       "      <td>0</td>\n",
       "      <td>0.0</td>\n",
       "      <td>Instagram</td>\n",
       "      <td>1</td>\n",
       "    </tr>\n",
       "    <tr>\n",
       "      <th>1</th>\n",
       "      <td>00000FkCnDfDDf0iC97iC703B</td>\n",
       "      <td>2018-07-17T19:15:07Z</td>\n",
       "      <td>impression</td>\n",
       "      <td>0</td>\n",
       "      <td>0.0</td>\n",
       "      <td>Online Display</td>\n",
       "      <td>2</td>\n",
       "    </tr>\n",
       "    <tr>\n",
       "      <th>2</th>\n",
       "      <td>00000FkCnDfDDf0iC97iC703B</td>\n",
       "      <td>2018-07-24T15:51:46Z</td>\n",
       "      <td>impression</td>\n",
       "      <td>0</td>\n",
       "      <td>0.0</td>\n",
       "      <td>Online Display</td>\n",
       "      <td>3</td>\n",
       "    </tr>\n",
       "    <tr>\n",
       "      <th>3</th>\n",
       "      <td>00000FkCnDfDDf0iC97iC703B</td>\n",
       "      <td>2018-07-29T07:44:51Z</td>\n",
       "      <td>impression</td>\n",
       "      <td>0</td>\n",
       "      <td>0.0</td>\n",
       "      <td>Online Display</td>\n",
       "      <td>4</td>\n",
       "    </tr>\n",
       "  </tbody>\n",
       "</table>\n",
       "<p>582592 rows × 7 columns</p>\n",
       "</div>"
      ],
      "text/plain": [
       "                           cookie                  time interaction  \\\n",
       "586736  ooooohAFofEnonEikhAi3fF9o  2018-07-14T17:17:12Z  impression   \n",
       "586734  ooooiBh70D3k3BfAhDFfii9h7  2018-07-03T12:57:25Z  impression   \n",
       "586735  ooooiBh70D3k3BfAhDFfii9h7  2018-07-19T08:17:59Z  impression   \n",
       "586731  ooooEiB0CCoEf9fiiC90Dfhfk  2018-07-06T23:30:38Z  impression   \n",
       "586732  ooooEiB0CCoEf9fiiC90Dfhfk  2018-07-12T23:50:45Z  impression   \n",
       "...                           ...                   ...         ...   \n",
       "9       0000nACkD9nFkBBDECD3ki00E  2018-07-11T22:19:53Z  impression   \n",
       "0       00000FkCnDfDDf0iC97iC703B  2018-07-03T13:02:11Z  impression   \n",
       "1       00000FkCnDfDDf0iC97iC703B  2018-07-17T19:15:07Z  impression   \n",
       "2       00000FkCnDfDDf0iC97iC703B  2018-07-24T15:51:46Z  impression   \n",
       "3       00000FkCnDfDDf0iC97iC703B  2018-07-29T07:44:51Z  impression   \n",
       "\n",
       "        conversion  conversion_value         channel  visit_order  \n",
       "586736           0               0.0     Paid Search            1  \n",
       "586734           0               0.0     Paid Search            1  \n",
       "586735           0               0.0    Online Video            2  \n",
       "586731           0               0.0  Online Display            1  \n",
       "586732           0               0.0  Online Display            2  \n",
       "...            ...               ...             ...          ...  \n",
       "9                0               0.0     Paid Search            6  \n",
       "0                0               0.0       Instagram            1  \n",
       "1                0               0.0  Online Display            2  \n",
       "2                0               0.0  Online Display            3  \n",
       "3                0               0.0  Online Display            4  \n",
       "\n",
       "[582592 rows x 7 columns]"
      ]
     },
     "execution_count": 134,
     "metadata": {},
     "output_type": "execute_result"
    }
   ],
   "source": [
    "df2"
   ]
  },
  {
   "cell_type": "code",
   "execution_count": 14,
   "id": "c25235d1",
   "metadata": {},
   "outputs": [],
   "source": [
    "df_paths = df2.groupby('cookie')['channel'].aggregate(\n",
    "    lambda x: x.unique().tolist()).reset_index()"
   ]
  },
  {
   "cell_type": "code",
   "execution_count": 15,
   "id": "b3c8cfa5",
   "metadata": {},
   "outputs": [
    {
     "data": {
      "text/html": [
       "<div>\n",
       "<style scoped>\n",
       "    .dataframe tbody tr th:only-of-type {\n",
       "        vertical-align: middle;\n",
       "    }\n",
       "\n",
       "    .dataframe tbody tr th {\n",
       "        vertical-align: top;\n",
       "    }\n",
       "\n",
       "    .dataframe thead th {\n",
       "        text-align: right;\n",
       "    }\n",
       "</style>\n",
       "<table border=\"1\" class=\"dataframe\">\n",
       "  <thead>\n",
       "    <tr style=\"text-align: right;\">\n",
       "      <th></th>\n",
       "      <th>cookie</th>\n",
       "      <th>channel</th>\n",
       "    </tr>\n",
       "  </thead>\n",
       "  <tbody>\n",
       "    <tr>\n",
       "      <th>0</th>\n",
       "      <td>00000FkCnDfDDf0iC97iC703B</td>\n",
       "      <td>[Instagram, Online Display]</td>\n",
       "    </tr>\n",
       "    <tr>\n",
       "      <th>1</th>\n",
       "      <td>0000nACkD9nFkBBDECD3ki00E</td>\n",
       "      <td>[Paid Search]</td>\n",
       "    </tr>\n",
       "    <tr>\n",
       "      <th>2</th>\n",
       "      <td>0003EfE37E93D0BC03iBhBBhF</td>\n",
       "      <td>[Paid Search]</td>\n",
       "    </tr>\n",
       "    <tr>\n",
       "      <th>3</th>\n",
       "      <td>00073CFE3FoFCn70fBhB3kfon</td>\n",
       "      <td>[Instagram]</td>\n",
       "    </tr>\n",
       "    <tr>\n",
       "      <th>4</th>\n",
       "      <td>00079hhBkDF3k3kDkiFi9EFAD</td>\n",
       "      <td>[Paid Search]</td>\n",
       "    </tr>\n",
       "    <tr>\n",
       "      <th>...</th>\n",
       "      <td>...</td>\n",
       "      <td>...</td>\n",
       "    </tr>\n",
       "    <tr>\n",
       "      <th>240103</th>\n",
       "      <td>ooooE0hkAFBkED90ChDDiBFAf</td>\n",
       "      <td>[Online Display]</td>\n",
       "    </tr>\n",
       "    <tr>\n",
       "      <th>240104</th>\n",
       "      <td>ooooEBE0o0D97ACAAAnDoi3F0</td>\n",
       "      <td>[Online Display]</td>\n",
       "    </tr>\n",
       "    <tr>\n",
       "      <th>240105</th>\n",
       "      <td>ooooEiB0CCoEf9fiiC90Dfhfk</td>\n",
       "      <td>[Online Display]</td>\n",
       "    </tr>\n",
       "    <tr>\n",
       "      <th>240106</th>\n",
       "      <td>ooooiBh70D3k3BfAhDFfii9h7</td>\n",
       "      <td>[Paid Search, Online Video]</td>\n",
       "    </tr>\n",
       "    <tr>\n",
       "      <th>240107</th>\n",
       "      <td>ooooohAFofEnonEikhAi3fF9o</td>\n",
       "      <td>[Paid Search]</td>\n",
       "    </tr>\n",
       "  </tbody>\n",
       "</table>\n",
       "<p>240108 rows × 2 columns</p>\n",
       "</div>"
      ],
      "text/plain": [
       "                           cookie                      channel\n",
       "0       00000FkCnDfDDf0iC97iC703B  [Instagram, Online Display]\n",
       "1       0000nACkD9nFkBBDECD3ki00E                [Paid Search]\n",
       "2       0003EfE37E93D0BC03iBhBBhF                [Paid Search]\n",
       "3       00073CFE3FoFCn70fBhB3kfon                  [Instagram]\n",
       "4       00079hhBkDF3k3kDkiFi9EFAD                [Paid Search]\n",
       "...                           ...                          ...\n",
       "240103  ooooE0hkAFBkED90ChDDiBFAf             [Online Display]\n",
       "240104  ooooEBE0o0D97ACAAAnDoi3F0             [Online Display]\n",
       "240105  ooooEiB0CCoEf9fiiC90Dfhfk             [Online Display]\n",
       "240106  ooooiBh70D3k3BfAhDFfii9h7  [Paid Search, Online Video]\n",
       "240107  ooooohAFofEnonEikhAi3fF9o                [Paid Search]\n",
       "\n",
       "[240108 rows x 2 columns]"
      ]
     },
     "execution_count": 15,
     "metadata": {},
     "output_type": "execute_result"
    }
   ],
   "source": [
    "df_paths"
   ]
  },
  {
   "cell_type": "code",
   "execution_count": 16,
   "id": "a65801b8",
   "metadata": {},
   "outputs": [],
   "source": [
    "import numpy as np\n",
    "df_last_interaction = df.drop_duplicates('cookie', keep='last')[['cookie', 'conversion']]\n",
    "df_paths= pd.merge(df_paths, df_last_interaction, how='left', on='cookie')\n",
    "\n"
   ]
  },
  {
   "cell_type": "code",
   "execution_count": 17,
   "id": "624d9b2b",
   "metadata": {},
   "outputs": [],
   "source": [
    "df_paths['path'] = np.where(\n",
    " df_paths['conversion'] == 0,\n",
    " ['Start, '] + df_paths['channel'].apply(', '.join) + [', Null'],\n",
    " ['Start, '] + df_paths['channel'].apply(', '.join) + [', conversion'])\n",
    "\n",
    "df_paths['path'] = df_paths['path'].str.split(', ')\n",
    "\n",
    "\n"
   ]
  },
  {
   "cell_type": "code",
   "execution_count": 18,
   "id": "ff4413cc",
   "metadata": {},
   "outputs": [
    {
     "data": {
      "text/html": [
       "<div>\n",
       "<style scoped>\n",
       "    .dataframe tbody tr th:only-of-type {\n",
       "        vertical-align: middle;\n",
       "    }\n",
       "\n",
       "    .dataframe tbody tr th {\n",
       "        vertical-align: top;\n",
       "    }\n",
       "\n",
       "    .dataframe thead th {\n",
       "        text-align: right;\n",
       "    }\n",
       "</style>\n",
       "<table border=\"1\" class=\"dataframe\">\n",
       "  <thead>\n",
       "    <tr style=\"text-align: right;\">\n",
       "      <th></th>\n",
       "      <th>cookie</th>\n",
       "      <th>channel</th>\n",
       "      <th>conversion</th>\n",
       "      <th>path</th>\n",
       "    </tr>\n",
       "  </thead>\n",
       "  <tbody>\n",
       "    <tr>\n",
       "      <th>0</th>\n",
       "      <td>00000FkCnDfDDf0iC97iC703B</td>\n",
       "      <td>[Instagram, Online Display]</td>\n",
       "      <td>0</td>\n",
       "      <td>[Start, Instagram, Online Display, Null]</td>\n",
       "    </tr>\n",
       "    <tr>\n",
       "      <th>1</th>\n",
       "      <td>0000nACkD9nFkBBDECD3ki00E</td>\n",
       "      <td>[Paid Search]</td>\n",
       "      <td>0</td>\n",
       "      <td>[Start, Paid Search, Null]</td>\n",
       "    </tr>\n",
       "    <tr>\n",
       "      <th>2</th>\n",
       "      <td>0003EfE37E93D0BC03iBhBBhF</td>\n",
       "      <td>[Paid Search]</td>\n",
       "      <td>0</td>\n",
       "      <td>[Start, Paid Search, Null]</td>\n",
       "    </tr>\n",
       "    <tr>\n",
       "      <th>3</th>\n",
       "      <td>00073CFE3FoFCn70fBhB3kfon</td>\n",
       "      <td>[Instagram]</td>\n",
       "      <td>0</td>\n",
       "      <td>[Start, Instagram, Null]</td>\n",
       "    </tr>\n",
       "    <tr>\n",
       "      <th>4</th>\n",
       "      <td>00079hhBkDF3k3kDkiFi9EFAD</td>\n",
       "      <td>[Paid Search]</td>\n",
       "      <td>0</td>\n",
       "      <td>[Start, Paid Search, Null]</td>\n",
       "    </tr>\n",
       "    <tr>\n",
       "      <th>...</th>\n",
       "      <td>...</td>\n",
       "      <td>...</td>\n",
       "      <td>...</td>\n",
       "      <td>...</td>\n",
       "    </tr>\n",
       "    <tr>\n",
       "      <th>240103</th>\n",
       "      <td>ooooE0hkAFBkED90ChDDiBFAf</td>\n",
       "      <td>[Online Display]</td>\n",
       "      <td>0</td>\n",
       "      <td>[Start, Online Display, Null]</td>\n",
       "    </tr>\n",
       "    <tr>\n",
       "      <th>240104</th>\n",
       "      <td>ooooEBE0o0D97ACAAAnDoi3F0</td>\n",
       "      <td>[Online Display]</td>\n",
       "      <td>0</td>\n",
       "      <td>[Start, Online Display, Null]</td>\n",
       "    </tr>\n",
       "    <tr>\n",
       "      <th>240105</th>\n",
       "      <td>ooooEiB0CCoEf9fiiC90Dfhfk</td>\n",
       "      <td>[Online Display]</td>\n",
       "      <td>0</td>\n",
       "      <td>[Start, Online Display, Null]</td>\n",
       "    </tr>\n",
       "    <tr>\n",
       "      <th>240106</th>\n",
       "      <td>ooooiBh70D3k3BfAhDFfii9h7</td>\n",
       "      <td>[Paid Search, Online Video]</td>\n",
       "      <td>0</td>\n",
       "      <td>[Start, Paid Search, Online Video, Null]</td>\n",
       "    </tr>\n",
       "    <tr>\n",
       "      <th>240107</th>\n",
       "      <td>ooooohAFofEnonEikhAi3fF9o</td>\n",
       "      <td>[Paid Search]</td>\n",
       "      <td>0</td>\n",
       "      <td>[Start, Paid Search, Null]</td>\n",
       "    </tr>\n",
       "  </tbody>\n",
       "</table>\n",
       "<p>240108 rows × 4 columns</p>\n",
       "</div>"
      ],
      "text/plain": [
       "                           cookie                      channel  conversion  \\\n",
       "0       00000FkCnDfDDf0iC97iC703B  [Instagram, Online Display]           0   \n",
       "1       0000nACkD9nFkBBDECD3ki00E                [Paid Search]           0   \n",
       "2       0003EfE37E93D0BC03iBhBBhF                [Paid Search]           0   \n",
       "3       00073CFE3FoFCn70fBhB3kfon                  [Instagram]           0   \n",
       "4       00079hhBkDF3k3kDkiFi9EFAD                [Paid Search]           0   \n",
       "...                           ...                          ...         ...   \n",
       "240103  ooooE0hkAFBkED90ChDDiBFAf             [Online Display]           0   \n",
       "240104  ooooEBE0o0D97ACAAAnDoi3F0             [Online Display]           0   \n",
       "240105  ooooEiB0CCoEf9fiiC90Dfhfk             [Online Display]           0   \n",
       "240106  ooooiBh70D3k3BfAhDFfii9h7  [Paid Search, Online Video]           0   \n",
       "240107  ooooohAFofEnonEikhAi3fF9o                [Paid Search]           0   \n",
       "\n",
       "                                            path  \n",
       "0       [Start, Instagram, Online Display, Null]  \n",
       "1                     [Start, Paid Search, Null]  \n",
       "2                     [Start, Paid Search, Null]  \n",
       "3                       [Start, Instagram, Null]  \n",
       "4                     [Start, Paid Search, Null]  \n",
       "...                                          ...  \n",
       "240103             [Start, Online Display, Null]  \n",
       "240104             [Start, Online Display, Null]  \n",
       "240105             [Start, Online Display, Null]  \n",
       "240106  [Start, Paid Search, Online Video, Null]  \n",
       "240107                [Start, Paid Search, Null]  \n",
       "\n",
       "[240108 rows x 4 columns]"
      ]
     },
     "execution_count": 18,
     "metadata": {},
     "output_type": "execute_result"
    }
   ],
   "source": [
    "df_paths"
   ]
  },
  {
   "cell_type": "code",
   "execution_count": 19,
   "id": "ee3e26b0",
   "metadata": {},
   "outputs": [
    {
     "name": "stdout",
     "output_type": "stream",
     "text": [
      "240108\n",
      "17639\n",
      "0.07346277508454528\n"
     ]
    }
   ],
   "source": [
    "\n",
    "list_of_paths = df_paths['path']\n",
    "print(len(list_of_paths))\n",
    "total_conversions = sum(i.count('conversion') for i in df_paths['path'].tolist())\n",
    "print(total_conversions)\n",
    "base_conversion_rate = total_conversions / len(list_of_paths)\n",
    "print(base_conversion_rate)"
   ]
  },
  {
   "cell_type": "code",
   "execution_count": 20,
   "id": "da204931",
   "metadata": {},
   "outputs": [
    {
     "data": {
      "text/plain": [
       "{'Null>Null': 0,\n",
       " 'Null>Online Video': 4,\n",
       " 'Null>Instagram': 3,\n",
       " 'Null>conversion': 0,\n",
       " 'Null>Paid Search': 9,\n",
       " 'Null>Facebook': 4,\n",
       " 'Null>Start': 0,\n",
       " 'Null>Online Display': 0,\n",
       " 'Online Video>Null': 0,\n",
       " 'Online Video>Online Video': 0,\n",
       " 'Online Video>Instagram': 0,\n",
       " 'Online Video>conversion': 0,\n",
       " 'Online Video>Paid Search': 0,\n",
       " 'Online Video>Facebook': 0,\n",
       " 'Online Video>Start': 43,\n",
       " 'Online Video>Online Display': 0,\n",
       " 'Instagram>Null': 0,\n",
       " 'Instagram>Online Video': 0,\n",
       " 'Instagram>Instagram': 0,\n",
       " 'Instagram>conversion': 0,\n",
       " 'Instagram>Paid Search': 0,\n",
       " 'Instagram>Facebook': 0,\n",
       " 'Instagram>Start': 110,\n",
       " 'Instagram>Online Display': 0,\n",
       " 'conversion>Null': 0,\n",
       " 'conversion>Online Video': 0,\n",
       " 'conversion>Instagram': 0,\n",
       " 'conversion>conversion': 0,\n",
       " 'conversion>Paid Search': 4,\n",
       " 'conversion>Facebook': 4,\n",
       " 'conversion>Start': 0,\n",
       " 'conversion>Online Display': 0,\n",
       " 'Paid Search>Null': 0,\n",
       " 'Paid Search>Online Video': 0,\n",
       " 'Paid Search>Instagram': 0,\n",
       " 'Paid Search>conversion': 0,\n",
       " 'Paid Search>Paid Search': 0,\n",
       " 'Paid Search>Facebook': 0,\n",
       " 'Paid Search>Start': 150,\n",
       " 'Paid Search>Online Display': 0,\n",
       " 'Facebook>Null': 0,\n",
       " 'Facebook>Online Video': 0,\n",
       " 'Facebook>Instagram': 4,\n",
       " 'Facebook>conversion': 0,\n",
       " 'Facebook>Paid Search': 0,\n",
       " 'Facebook>Facebook': 0,\n",
       " 'Facebook>Start': 82,\n",
       " 'Facebook>Online Display': 0,\n",
       " 'Start>Null': 118,\n",
       " 'Start>Online Video': 0,\n",
       " 'Start>Instagram': 0,\n",
       " 'Start>conversion': 37,\n",
       " 'Start>Paid Search': 0,\n",
       " 'Start>Facebook': 0,\n",
       " 'Start>Start': 0,\n",
       " 'Start>Online Display': 0,\n",
       " 'Online Display>Null': 0,\n",
       " 'Online Display>Online Video': 0,\n",
       " 'Online Display>Instagram': 3,\n",
       " 'Online Display>conversion': 0,\n",
       " 'Online Display>Paid Search': 0,\n",
       " 'Online Display>Facebook': 0,\n",
       " 'Online Display>Start': 0,\n",
       " 'Online Display>Online Display': 0}"
      ]
     },
     "execution_count": 20,
     "metadata": {},
     "output_type": "execute_result"
    }
   ],
   "source": [
    "\n",
    "def transition_states_2(list_of_paths):\n",
    "    list_of_unique_channels=set()\n",
    "    for i in list2:\n",
    "        for j in i:\n",
    "            list_of_unique_channels.add(j)\n",
    "            \n",
    "    transition_states=dict()\n",
    "    for x in list_of_unique_channels:\n",
    "        for y in list_of_unique_channels:\n",
    "            transition_states[x + '>' + y]=0\n",
    "    \n",
    "    indices=[]\n",
    "    for possible_state in list_of_unique_channels:\n",
    "        if possible_state not in ['conversion', 'Null']:\n",
    "            for user_path in list2:\n",
    "                if possible_state in user_path:\n",
    "                    for i, s in enumerate(user_path):\n",
    "                        if possible_state in s:\n",
    "                            indices.append(i)\n",
    "                for col in indices:\n",
    "                    transition_states[user_path[col] + '>' + user_path[col-1]] += 1\n",
    "    \n",
    "    return transition_states\n",
    "\n",
    "\n",
    "\n",
    "                    \n",
    "\n",
    "\n",
    "\n",
    "\n",
    "                    \n",
    "   \n",
    "            \n",
    "list2=list_of_paths.iloc[0:10]        \n",
    "#list_of_unique_channels=set()\n",
    "\n",
    "#print(list2)\n",
    "#a=set(x for element in list2 for x in element)\n",
    "#print(a)\n",
    "transition_states_2(list2)\n"
   ]
  },
  {
   "cell_type": "code",
   "execution_count": 21,
   "id": "3c0e4ba6",
   "metadata": {},
   "outputs": [],
   "source": [
    "def transition_states(list_of_paths):\n",
    "    list_of_unique_channels = set(x for element in list_of_paths for x in element)\n",
    "    transition_states = {x + '>' + y: 0 for x in list_of_unique_channels for y in list_of_unique_channels}\n",
    "\n",
    "    for possible_state in list_of_unique_channels:\n",
    "        if possible_state not in ['conversion', 'Null']:\n",
    "            for user_path in list_of_paths:\n",
    "                if possible_state in user_path:\n",
    "                    indices = [i for i, s in enumerate(user_path) if possible_state in s]\n",
    "                    for col in indices:\n",
    "                        transition_states[user_path[col] + '>' + user_path[col-1]] += 1\n",
    "\n",
    "    return transition_states\n",
    "\n",
    "\n",
    "trans_states = transition_states(list_of_paths)\n",
    "\n"
   ]
  },
  {
   "cell_type": "code",
   "execution_count": 22,
   "id": "484ecfc8",
   "metadata": {},
   "outputs": [
    {
     "data": {
      "text/plain": [
       "{'Online Video>Instagram': 0.029124554465114007,\n",
       " 'Online Video>Paid Search': 0.06337581172794297,\n",
       " 'Online Video>Facebook': 0.05502661002880719,\n",
       " 'Online Video>Start': 0.8344807382452029,\n",
       " 'Online Video>Online Display': 0.017992285532932962,\n",
       " 'Instagram>Online Video': 0.026422188978288116,\n",
       " 'Instagram>Paid Search': 0.061415922047466945,\n",
       " 'Instagram>Facebook': 0.30833299640156875,\n",
       " 'Instagram>Start': 0.5785387943233736,\n",
       " 'Instagram>Online Display': 0.02529009824930255,\n",
       " 'Paid Search>Online Video': 0.022107158937415577,\n",
       " 'Paid Search>Instagram': 0.0255065285907249,\n",
       " 'Paid Search>Facebook': 0.05024763619990995,\n",
       " 'Paid Search>Start': 0.8578343088698784,\n",
       " 'Paid Search>Online Display': 0.04430436740207114,\n",
       " 'Facebook>Online Video': 0.02757446808510638,\n",
       " 'Facebook>Instagram': 0.12280283687943262,\n",
       " 'Facebook>Paid Search': 0.0649645390070922,\n",
       " 'Facebook>Start': 0.7585588652482269,\n",
       " 'Facebook>Online Display': 0.026099290780141844,\n",
       " 'Start>Null': 0.9265372249154548,\n",
       " 'Start>conversion': 0.07346277508454528,\n",
       " 'Online Display>Online Video': 0.018190780208431134,\n",
       " 'Online Display>Instagram': 0.027321378274340436,\n",
       " 'Online Display>Paid Search': 0.10020185898037742,\n",
       " 'Online Display>Facebook': 0.05037085719650737,\n",
       " 'Online Display>Start': 0.8039151253403436}"
      ]
     },
     "execution_count": 22,
     "metadata": {},
     "output_type": "execute_result"
    }
   ],
   "source": [
    "def transition_prob(trans_dict):\n",
    "    list_of_unique_channels = set(x for element in list_of_paths for x in element)\n",
    "    trans_prob = dict()\n",
    "    for state in list_of_unique_channels:\n",
    "        if state not in ['Conversion', 'Null']:\n",
    "            counter = 0\n",
    "            index = [i for i, s in enumerate(trans_dict) if state + '>' in s]\n",
    "            for col in index:\n",
    "                if trans_dict[list(trans_dict)[col]] > 0:\n",
    "                    counter += trans_dict[list(trans_dict)[col]]\n",
    "            for col in index:\n",
    "                if trans_dict[list(trans_dict)[col]] > 0:\n",
    "                    state_prob = float((trans_dict[list(trans_dict)[col]])) / float(counter)\n",
    "                    trans_prob[list(trans_dict)[col]] = state_prob\n",
    "\n",
    "    return trans_prob\n",
    "\n",
    "\n",
    "trans_prob = transition_prob(trans_states)\n",
    "\n",
    "trans_prob"
   ]
  },
  {
   "cell_type": "code",
   "execution_count": 32,
   "id": "763d42ac",
   "metadata": {},
   "outputs": [
    {
     "data": {
      "text/html": [
       "<div>\n",
       "<style scoped>\n",
       "    .dataframe tbody tr th:only-of-type {\n",
       "        vertical-align: middle;\n",
       "    }\n",
       "\n",
       "    .dataframe tbody tr th {\n",
       "        vertical-align: top;\n",
       "    }\n",
       "\n",
       "    .dataframe thead th {\n",
       "        text-align: right;\n",
       "    }\n",
       "</style>\n",
       "<table border=\"1\" class=\"dataframe\">\n",
       "  <thead>\n",
       "    <tr style=\"text-align: right;\">\n",
       "      <th></th>\n",
       "      <th>Null</th>\n",
       "      <th>Online Video</th>\n",
       "      <th>Instagram</th>\n",
       "      <th>conversion</th>\n",
       "      <th>Paid Search</th>\n",
       "      <th>Facebook</th>\n",
       "      <th>Start</th>\n",
       "      <th>Online Display</th>\n",
       "    </tr>\n",
       "  </thead>\n",
       "  <tbody>\n",
       "    <tr>\n",
       "      <th>Null</th>\n",
       "      <td>1.000000</td>\n",
       "      <td>0.000000</td>\n",
       "      <td>0.000000</td>\n",
       "      <td>0.000000</td>\n",
       "      <td>0.000000</td>\n",
       "      <td>0.000000</td>\n",
       "      <td>0.000000</td>\n",
       "      <td>0.000000</td>\n",
       "    </tr>\n",
       "    <tr>\n",
       "      <th>Online Video</th>\n",
       "      <td>0.000000</td>\n",
       "      <td>0.000000</td>\n",
       "      <td>0.029125</td>\n",
       "      <td>0.000000</td>\n",
       "      <td>0.063376</td>\n",
       "      <td>0.055027</td>\n",
       "      <td>0.834481</td>\n",
       "      <td>0.017992</td>\n",
       "    </tr>\n",
       "    <tr>\n",
       "      <th>Instagram</th>\n",
       "      <td>0.000000</td>\n",
       "      <td>0.026422</td>\n",
       "      <td>0.000000</td>\n",
       "      <td>0.000000</td>\n",
       "      <td>0.061416</td>\n",
       "      <td>0.308333</td>\n",
       "      <td>0.578539</td>\n",
       "      <td>0.025290</td>\n",
       "    </tr>\n",
       "    <tr>\n",
       "      <th>conversion</th>\n",
       "      <td>0.000000</td>\n",
       "      <td>0.000000</td>\n",
       "      <td>0.000000</td>\n",
       "      <td>0.000000</td>\n",
       "      <td>0.000000</td>\n",
       "      <td>0.000000</td>\n",
       "      <td>0.000000</td>\n",
       "      <td>0.000000</td>\n",
       "    </tr>\n",
       "    <tr>\n",
       "      <th>Paid Search</th>\n",
       "      <td>0.000000</td>\n",
       "      <td>0.022107</td>\n",
       "      <td>0.025507</td>\n",
       "      <td>0.000000</td>\n",
       "      <td>0.000000</td>\n",
       "      <td>0.050248</td>\n",
       "      <td>0.857834</td>\n",
       "      <td>0.044304</td>\n",
       "    </tr>\n",
       "    <tr>\n",
       "      <th>Facebook</th>\n",
       "      <td>0.000000</td>\n",
       "      <td>0.027574</td>\n",
       "      <td>0.122803</td>\n",
       "      <td>0.000000</td>\n",
       "      <td>0.064965</td>\n",
       "      <td>0.000000</td>\n",
       "      <td>0.758559</td>\n",
       "      <td>0.026099</td>\n",
       "    </tr>\n",
       "    <tr>\n",
       "      <th>Start</th>\n",
       "      <td>0.926537</td>\n",
       "      <td>0.000000</td>\n",
       "      <td>0.000000</td>\n",
       "      <td>0.073463</td>\n",
       "      <td>0.000000</td>\n",
       "      <td>0.000000</td>\n",
       "      <td>0.000000</td>\n",
       "      <td>0.000000</td>\n",
       "    </tr>\n",
       "    <tr>\n",
       "      <th>Online Display</th>\n",
       "      <td>0.000000</td>\n",
       "      <td>0.018191</td>\n",
       "      <td>0.027321</td>\n",
       "      <td>0.000000</td>\n",
       "      <td>0.100202</td>\n",
       "      <td>0.050371</td>\n",
       "      <td>0.803915</td>\n",
       "      <td>0.000000</td>\n",
       "    </tr>\n",
       "  </tbody>\n",
       "</table>\n",
       "</div>"
      ],
      "text/plain": [
       "                    Null  Online Video  Instagram  conversion  Paid Search  \\\n",
       "Null            1.000000      0.000000   0.000000    0.000000     0.000000   \n",
       "Online Video    0.000000      0.000000   0.029125    0.000000     0.063376   \n",
       "Instagram       0.000000      0.026422   0.000000    0.000000     0.061416   \n",
       "conversion      0.000000      0.000000   0.000000    0.000000     0.000000   \n",
       "Paid Search     0.000000      0.022107   0.025507    0.000000     0.000000   \n",
       "Facebook        0.000000      0.027574   0.122803    0.000000     0.064965   \n",
       "Start           0.926537      0.000000   0.000000    0.073463     0.000000   \n",
       "Online Display  0.000000      0.018191   0.027321    0.000000     0.100202   \n",
       "\n",
       "                Facebook     Start  Online Display  \n",
       "Null            0.000000  0.000000        0.000000  \n",
       "Online Video    0.055027  0.834481        0.017992  \n",
       "Instagram       0.308333  0.578539        0.025290  \n",
       "conversion      0.000000  0.000000        0.000000  \n",
       "Paid Search     0.050248  0.857834        0.044304  \n",
       "Facebook        0.000000  0.758559        0.026099  \n",
       "Start           0.000000  0.000000        0.000000  \n",
       "Online Display  0.050371  0.803915        0.000000  "
      ]
     },
     "execution_count": 32,
     "metadata": {},
     "output_type": "execute_result"
    }
   ],
   "source": [
    "def transition_matrix(list_of_paths, transition_probabilities):\n",
    "    trans_matrix = pd.DataFrame()\n",
    "    list_of_unique_channels = set(x for element in list_of_paths for x in element)\n",
    "\n",
    "    for channel in list_of_unique_channels:\n",
    "        trans_matrix[channel] = 0.00\n",
    "        trans_matrix.loc[channel] = 0.00\n",
    "        trans_matrix.loc[channel][channel] = 1.0 if channel in ['Conversion', 'Null'] else 0.0\n",
    "\n",
    "    for key, value in transition_probabilities.items():\n",
    "        origin, destination = key.split('>')\n",
    "        trans_matrix.at[origin, destination] = value\n",
    "\n",
    "    return trans_matrix\n",
    "\n",
    "\n",
    "trans_matrix = transition_matrix(list_of_paths, trans_prob)\n",
    "\n",
    "trans_matrix"
   ]
  },
  {
   "cell_type": "code",
   "execution_count": 24,
   "id": "f368c57e",
   "metadata": {},
   "outputs": [
    {
     "data": {
      "text/plain": [
       "<AxesSubplot:>"
      ]
     },
     "execution_count": 24,
     "metadata": {},
     "output_type": "execute_result"
    },
    {
     "data": {
      "image/png": "[encoded data removed]",
      "text/plain": [
       "<Figure size 432x288 with 2 Axes>"
      ]
     },
     "metadata": {
      "needs_background": "light"
     },
     "output_type": "display_data"
    }
   ],
   "source": [
    "import seaborn as sns\n",
    "sns.heatmap(trans_matrix,cmap=\"YlGnBu\")"
   ]
  },
  {
   "cell_type": "code",
   "execution_count": 58,
   "id": "890864f2",
   "metadata": {},
   "outputs": [
    {
     "name": "stdout",
     "output_type": "stream",
     "text": [
      "['Online Video', 'Instagram', 'Paid Search', 'Facebook', 'Online Display']\n"
     ]
    },
    {
     "data": {
      "text/html": [
       "<div>\n",
       "<style scoped>\n",
       "    .dataframe tbody tr th:only-of-type {\n",
       "        vertical-align: middle;\n",
       "    }\n",
       "\n",
       "    .dataframe tbody tr th {\n",
       "        vertical-align: top;\n",
       "    }\n",
       "\n",
       "    .dataframe thead th {\n",
       "        text-align: right;\n",
       "    }\n",
       "</style>\n",
       "<table border=\"1\" class=\"dataframe\">\n",
       "  <thead>\n",
       "    <tr style=\"text-align: right;\">\n",
       "      <th></th>\n",
       "      <th>Null</th>\n",
       "      <th>Online Video</th>\n",
       "      <th>Instagram</th>\n",
       "      <th>conversion</th>\n",
       "      <th>Paid Search</th>\n",
       "      <th>Facebook</th>\n",
       "      <th>Start</th>\n",
       "    </tr>\n",
       "  </thead>\n",
       "  <tbody>\n",
       "    <tr>\n",
       "      <th>Null</th>\n",
       "      <td>1.000000</td>\n",
       "      <td>0.000000</td>\n",
       "      <td>0.000000</td>\n",
       "      <td>0.000000</td>\n",
       "      <td>0.000000</td>\n",
       "      <td>0.000000</td>\n",
       "      <td>0.000000</td>\n",
       "    </tr>\n",
       "    <tr>\n",
       "      <th>Online Video</th>\n",
       "      <td>0.017992</td>\n",
       "      <td>0.000000</td>\n",
       "      <td>0.029125</td>\n",
       "      <td>0.000000</td>\n",
       "      <td>0.063376</td>\n",
       "      <td>0.055027</td>\n",
       "      <td>0.834481</td>\n",
       "    </tr>\n",
       "    <tr>\n",
       "      <th>Instagram</th>\n",
       "      <td>0.025290</td>\n",
       "      <td>0.026422</td>\n",
       "      <td>0.000000</td>\n",
       "      <td>0.000000</td>\n",
       "      <td>0.061416</td>\n",
       "      <td>0.308333</td>\n",
       "      <td>0.578539</td>\n",
       "    </tr>\n",
       "    <tr>\n",
       "      <th>conversion</th>\n",
       "      <td>1.000000</td>\n",
       "      <td>0.000000</td>\n",
       "      <td>0.000000</td>\n",
       "      <td>0.000000</td>\n",
       "      <td>0.000000</td>\n",
       "      <td>0.000000</td>\n",
       "      <td>0.000000</td>\n",
       "    </tr>\n",
       "    <tr>\n",
       "      <th>Paid Search</th>\n",
       "      <td>0.044304</td>\n",
       "      <td>0.022107</td>\n",
       "      <td>0.025507</td>\n",
       "      <td>0.000000</td>\n",
       "      <td>0.000000</td>\n",
       "      <td>0.050248</td>\n",
       "      <td>0.857834</td>\n",
       "    </tr>\n",
       "    <tr>\n",
       "      <th>Facebook</th>\n",
       "      <td>0.026099</td>\n",
       "      <td>0.027574</td>\n",
       "      <td>0.122803</td>\n",
       "      <td>0.000000</td>\n",
       "      <td>0.064965</td>\n",
       "      <td>0.000000</td>\n",
       "      <td>0.758559</td>\n",
       "    </tr>\n",
       "    <tr>\n",
       "      <th>Start</th>\n",
       "      <td>0.926537</td>\n",
       "      <td>0.000000</td>\n",
       "      <td>0.000000</td>\n",
       "      <td>0.073463</td>\n",
       "      <td>0.000000</td>\n",
       "      <td>0.000000</td>\n",
       "      <td>0.000000</td>\n",
       "    </tr>\n",
       "  </tbody>\n",
       "</table>\n",
       "</div>"
      ],
      "text/plain": [
       "                  Null  Online Video  Instagram  conversion  Paid Search  \\\n",
       "Null          1.000000      0.000000   0.000000    0.000000     0.000000   \n",
       "Online Video  0.017992      0.000000   0.029125    0.000000     0.063376   \n",
       "Instagram     0.025290      0.026422   0.000000    0.000000     0.061416   \n",
       "conversion    1.000000      0.000000   0.000000    0.000000     0.000000   \n",
       "Paid Search   0.044304      0.022107   0.025507    0.000000     0.000000   \n",
       "Facebook      0.026099      0.027574   0.122803    0.000000     0.064965   \n",
       "Start         0.926537      0.000000   0.000000    0.073463     0.000000   \n",
       "\n",
       "              Facebook     Start  \n",
       "Null          0.000000  0.000000  \n",
       "Online Video  0.055027  0.834481  \n",
       "Instagram     0.308333  0.578539  \n",
       "conversion    0.000000  0.000000  \n",
       "Paid Search   0.050248  0.857834  \n",
       "Facebook      0.000000  0.758559  \n",
       "Start         0.000000  0.000000  "
      ]
     },
     "execution_count": 58,
     "metadata": {},
     "output_type": "execute_result"
    }
   ],
   "source": [
    "removal_effects_dict = {}\n",
    "channels = [channel for channel in trans_matrix.columns if channel not in ['Start',\n",
    "                                                                     'Null',\n",
    "                                                                     'conversion']]\n",
    "print(channels)\n",
    "\n",
    "for channel in channels:\n",
    "    removal_df = trans_matrix.drop(channel, axis=1).drop(channel, axis=0)\n",
    "    for column in removal_df.columns:\n",
    "        row_sum = np.sum(list(removal_df.loc[column]))\n",
    "        null_pct = float(1) - row_sum\n",
    "        if null_pct != 0:\n",
    "                removal_df.loc[column]['Null'] = null_pct\n",
    "        removal_df.loc['Null']['Null'] = 1.0\n",
    "\n",
    "    removal_to_conv = removal_df[\n",
    "            ['Null', 'conversion']].drop(['Null', 'conversion'], axis=0)\n",
    "    removal_to_non_conv = removal_df.drop(\n",
    "            ['Null', 'conversion'], axis=1).drop(['Null', 'conversion'], axis=0)\n",
    "\n"
   ]
  },
  {
   "cell_type": "code",
   "execution_count": 54,
   "id": "b1d1d276",
   "metadata": {},
   "outputs": [
    {
     "name": "stdout",
     "output_type": "stream",
     "text": [
      "['Online Video', 'Instagram', 'Paid Search', 'Facebook', 'Online Display']\n",
      "                    Null  Instagram  conversion  Paid Search  Facebook  \\\n",
      "Null            1.000000   0.000000    0.000000     0.000000  0.000000   \n",
      "Instagram       0.000000   0.000000    0.000000     0.061416  0.308333   \n",
      "conversion      0.000000   0.000000    0.000000     0.000000  0.000000   \n",
      "Paid Search     0.000000   0.025507    0.000000     0.000000  0.050248   \n",
      "Facebook        0.000000   0.122803    0.000000     0.064965  0.000000   \n",
      "Start           0.926537   0.000000    0.073463     0.000000  0.000000   \n",
      "Online Display  0.000000   0.027321    0.000000     0.100202  0.050371   \n",
      "\n",
      "                   Start  Online Display  \n",
      "Null            0.000000        0.000000  \n",
      "Instagram       0.578539        0.025290  \n",
      "conversion      0.000000        0.000000  \n",
      "Paid Search     0.857834        0.044304  \n",
      "Facebook        0.758559        0.026099  \n",
      "Start           0.000000        0.000000  \n",
      "Online Display  0.803915        0.000000  \n"
     ]
    }
   ],
   "source": []
  },
  {
   "cell_type": "code",
   "execution_count": 65,
   "id": "831bfd0f",
   "metadata": {},
   "outputs": [
    {
     "name": "stdout",
     "output_type": "stream",
     "text": [
      "{'Online Video': 0.0, 'Instagram': 0.0, 'Paid Search': 0.0, 'Facebook': 0.0, 'Online Display': 0.0}\n"
     ]
    }
   ],
   "source": [
    "def removal_effects(df, conversion_rate):\n",
    "    removal_effects_dict = {}\n",
    "    channels = [channel for channel in df.columns if channel not in ['Start',\n",
    "                                                                     'Null',\n",
    "                                                                     'conversion']]\n",
    "    for channel in channels:\n",
    "        removal_df = df.drop(channel, axis=1).drop(channel, axis=0)\n",
    "        for column in removal_df.columns:\n",
    "            row_sum = np.sum(list(removal_df.loc[column]))\n",
    "            null_pct = float(1) - row_sum\n",
    "            if null_pct != 0:\n",
    "                removal_df.loc[column]['Null'] = null_pct\n",
    "            removal_df.loc['Null']['Null'] = 1.0\n",
    "\n",
    "        removal_to_conv = removal_df[\n",
    "            ['Null', 'conversion']].drop(['Null', 'conversion'], axis=0)\n",
    "       # print(removal_to_conv)\n",
    "        removal_to_non_conv = removal_df.drop(\n",
    "            ['Null', 'conversion'], axis=1).drop(['Null', 'conversion'], axis=0)\n",
    "        #print( removal_to_non_conv)\n",
    "\n",
    "        removal_inv_diff = np.linalg.inv(\n",
    "            np.identity(\n",
    "                len(removal_to_non_conv.columns)) - np.asarray(removal_to_non_conv))\n",
    "        removal_dot_prod = np.dot(removal_inv_diff, np.asarray(removal_to_conv))\n",
    "        removal_cvr = pd.DataFrame(removal_dot_prod,\n",
    "                                   index=removal_to_conv.index)[[1]].loc['Start'].values[0]\n",
    "        removal_effect = 1 - removal_cvr / conversion_rate\n",
    "        removal_effects_dict[channel] = removal_effect\n",
    "\n",
    "    return removal_effects_dict\n",
    "\n",
    "\n",
    "removal_effects_dict = removal_effects(trans_matrix, base_conversion_rate)\n",
    "print(removal_effects_dict)"
   ]
  },
  {
   "cell_type": "code",
   "execution_count": null,
   "id": "dcbefab8",
   "metadata": {},
   "outputs": [],
   "source": []
  },
  {
   "cell_type": "code",
   "execution_count": 30,
   "id": "6fd6f161",
   "metadata": {},
   "outputs": [
    {
     "name": "stdout",
     "output_type": "stream",
     "text": [
      "{'Online Video': nan, 'Instagram': nan, 'Paid Search': nan, 'Facebook': nan, 'Online Display': nan}\n"
     ]
    },
    {
     "name": "stderr",
     "output_type": "stream",
     "text": [
      "<ipython-input-30-6610ad1b1c9f>:4: RuntimeWarning: invalid value encountered in double_scalars\n",
      "  return {k: (v / re_sum) * total_conversions for k, v in removal_effects.items()}\n"
     ]
    }
   ],
   "source": [
    "def markov_chain_allocations(removal_effects, total_conversions):\n",
    "    re_sum = np.sum(list(removal_effects.values()))\n",
    "\n",
    "    return {k: (v / re_sum) * total_conversions for k, v in removal_effects.items()}\n",
    "\n",
    "\n",
    "attributions = markov_chain_allocations(removal_effects_dict, total_conversions)\n",
    "print(attributions)"
   ]
  },
  {
   "cell_type": "code",
   "execution_count": null,
   "id": "92515254",
   "metadata": {},
   "outputs": [],
   "source": []
  }
 ],
 "metadata": {
  "kernelspec": {
   "display_name": "Python 3",
   "language": "python",
   "name": "python3"
  },
  "language_info": {
   "codemirror_mode": {
    "name": "ipython",
    "version": 3
   },
   "file_extension": ".py",
   "mimetype": "text/x-python",
   "name": "python",
   "nbconvert_exporter": "python",
   "pygments_lexer": "ipython3",
   "version": "3.8.8"
  }
 },
 "nbformat": 4,
 "nbformat_minor": 5
}
